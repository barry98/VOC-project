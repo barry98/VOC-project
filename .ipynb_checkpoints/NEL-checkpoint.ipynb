{
 "cells": [
  {
   "cell_type": "code",
   "execution_count": 1,
   "metadata": {},
   "outputs": [],
   "source": [
    "import pandas as pd\n",
    "import numpy as np\n",
    "from tqdm import notebook\n",
    "import ast\n",
    "import re\n",
    "from fuzzywuzzy import fuzz"
   ]
  },
  {
   "cell_type": "code",
   "execution_count": 2,
   "metadata": {},
   "outputs": [
    {
     "name": "stderr",
     "output_type": "stream",
     "text": [
      "D:\\Anaconda\\lib\\site-packages\\tqdm\\std.py:651: FutureWarning: The Panel class is removed from pandas. Accessing it from the top-level namespace will also be removed in the next version\n",
      "  from pandas import Panel\n",
      "D:\\Anaconda\\lib\\site-packages\\IPython\\core\\interactiveshell.py:3058: DtypeWarning: Columns (17,27,35,36,38) have mixed types.Specify dtype option on import or set low_memory=False.\n",
      "  interactivity=interactivity, compiler=compiler, result=result)\n"
     ]
    }
   ],
   "source": [
    "notebook.tqdm.pandas()\n",
    "clean = pd.read_csv('../clean_data.csv')\n",
    "voc = pd.read_csv('../vocclustered.csv', sep='\t')"
   ]
  },
  {
   "cell_type": "code",
   "execution_count": 3,
   "metadata": {},
   "outputs": [
    {
     "data": {
      "text/plain": [
       "100"
      ]
     },
     "execution_count": 3,
     "metadata": {},
     "output_type": "execute_result"
    }
   ],
   "source": [
    "fuzz.partial_ratio(\"this is a test\", \"this is a test!\")"
   ]
  },
  {
   "cell_type": "code",
   "execution_count": 4,
   "metadata": {},
   "outputs": [
    {
     "data": {
      "application/vnd.jupyter.widget-view+json": {
       "model_id": "caaa6d2f4f314ea39d5a23e8a0655f32",
       "version_major": 2,
       "version_minor": 0
      },
      "text/plain": [
       "HBox(children=(IntProgress(value=0, max=13063), HTML(value='')))"
      ]
     },
     "metadata": {},
     "output_type": "display_data"
    },
    {
     "name": "stdout",
     "output_type": "stream",
     "text": [
      "\n"
     ]
    }
   ],
   "source": [
    "name_list = []\n",
    "for z in notebook.tqdm(clean.namen):\n",
    "    holder = []\n",
    "    for x in ast.literal_eval(z):\n",
    "        if x['tussenvoegsel'] != None:\n",
    "            holder.append(x['voornaam'] + \" \" + x['tussenvoegsel'] + \" \" + x['achternaam'])\n",
    "        elif x['voornaam'] and x['achternaam'] != None:\n",
    "            holder.append(x['voornaam'] + \" \" + x['achternaam'])\n",
    "    name_list.append(holder)\n",
    "clean['clean_namen'] = name_list"
   ]
  },
  {
   "cell_type": "code",
   "execution_count": 30,
   "metadata": {},
   "outputs": [
    {
     "name": "stdout",
     "output_type": "stream",
     "text": [
      "All 3-grams in \"McDonalds\":\n"
     ]
    },
    {
     "data": {
      "text/plain": [
       "['McD', 'cDo', 'Don', 'ona', 'nal', 'ald', 'lds']"
      ]
     },
     "execution_count": 30,
     "metadata": {},
     "output_type": "execute_result"
    }
   ],
   "source": [
    "def ngrams(string, n=3):\n",
    "    string = re.sub(r'[,-./]|\\sBD',r'', string)\n",
    "    ngrams = zip(*[string[i:] for i in range(n)])\n",
    "    return [''.join(ngram) for ngram in ngrams]\n",
    "\n",
    "print('All 3-grams in \"McDonalds\":')\n",
    "ngrams('McDonalds')\n"
   ]
  },
  {
   "cell_type": "code",
   "execution_count": 20,
   "metadata": {},
   "outputs": [],
   "source": [
    "def levenshtein_ratio_and_distance(s, t, ratio_calc = False):\n",
    "    \"\"\" levenshtein_ratio_and_distance:\n",
    "        Calculates levenshtein distance between two strings.\n",
    "        If ratio_calc = True, the function computes the\n",
    "        levenshtein distance ratio of similarity between two strings\n",
    "        For all i and j, distance[i,j] will contain the Levenshtein\n",
    "        distance between the first i characters of s and the\n",
    "        first j characters of t\n",
    "    \"\"\"\n",
    "    # Initialize matrix of zeros\n",
    "    rows = len(s)+1\n",
    "    cols = len(t)+1\n",
    "    distance = np.zeros((rows,cols),dtype = int)\n",
    "\n",
    "    # Populate matrix of zeros with the indeces of each character of both strings\n",
    "    for i in range(1, rows):\n",
    "        for k in range(1,cols):\n",
    "            distance[i][0] = i\n",
    "            distance[0][k] = k\n",
    "\n",
    "    # Iterate over the matrix to compute the cost of deletions,insertions and/or substitutions    \n",
    "    for col in range(1, cols):\n",
    "        for row in range(1, rows):\n",
    "            if s[row-1] == t[col-1]:\n",
    "                cost = 0 # If the characters are the same in the two strings in a given position [i,j] then the cost is 0\n",
    "            else:\n",
    "                # In order to align the results with those of the Python Levenshtein package, if we choose to calculate the ratio\n",
    "                # the cost of a substitution is 2. If we calculate just distance, then the cost of a substitution is 1.\n",
    "                if ratio_calc == True:\n",
    "                    cost = 2\n",
    "                else:\n",
    "                    cost = 1\n",
    "            distance[row][col] = min(distance[row-1][col] + 1,      # Cost of deletions\n",
    "                                 distance[row][col-1] + 1,          # Cost of insertions\n",
    "                                 distance[row-1][col-1] + cost)     # Cost of substitutions\n",
    "    if ratio_calc == True:\n",
    "        # Computation of the Levenshtein Distance Ratio\n",
    "        Ratio = ((len(s)+len(t)) - distance[row][col]) / (len(s)+len(t))\n",
    "        return Ratio\n",
    "    else:\n",
    "        # print(distance) # Uncomment if you want to see the matrix showing how the algorithm computes the cost of deletions,\n",
    "        # insertions and/or substitutions\n",
    "        # This is the minimum number of edits needed to convert string a to string b\n",
    "        return distance[row][col]"
   ]
  },
  {
   "cell_type": "code",
   "execution_count": 27,
   "metadata": {},
   "outputs": [],
   "source": [
    "def find_matches(names, distance):\n",
    "    for name in notebook.tqdm(names.clean_namen):\n",
    "            names = np.where((levenshtein_ratio_and_distance(voc.fullNameOriginal, name) <= distance) \n",
    "                             | (levenshtein_ratio_and_distance(voc.fullNameNormalized, name) <= distance))\n",
    "            #names = voc[(voc.fullNameOriginal == name) | (voc.fullNameNormalized == name)].index.tolist()\n",
    "            final = (name, names)\n",
    "    return final\n",
    "        "
   ]
  },
  {
   "cell_type": "code",
   "execution_count": 28,
   "metadata": {},
   "outputs": [
    {
     "data": {
      "application/vnd.jupyter.widget-view+json": {
       "model_id": "55965b1f1650488588533296f1b5c506",
       "version_major": 2,
       "version_minor": 0
      },
      "text/plain": [
       "HBox(children=(IntProgress(value=0, max=2), HTML(value='')))"
      ]
     },
     "metadata": {},
     "output_type": "display_data"
    },
    {
     "data": {
      "application/vnd.jupyter.widget-view+json": {
       "model_id": "20701a3dd19246be9d07a499cd5e2c9a",
       "version_major": 2,
       "version_minor": 0
      },
      "text/plain": [
       "HBox(children=(IntProgress(value=0, max=4), HTML(value='')))"
      ]
     },
     "metadata": {},
     "output_type": "display_data"
    },
    {
     "name": "stderr",
     "output_type": "stream",
     "text": [
      "ERROR:root:Internal Python error in the inspect module.\n",
      "Below is the traceback from this internal error.\n",
      "\n"
     ]
    },
    {
     "name": "stdout",
     "output_type": "stream",
     "text": [
      "Traceback (most recent call last):\n",
      "  File \"D:\\Anaconda\\lib\\site-packages\\IPython\\core\\interactiveshell.py\", line 3326, in run_code\n",
      "    exec(code_obj, self.user_global_ns, self.user_ns)\n",
      "  File \"<ipython-input-28-1ac45c38fc7e>\", line 1, in <module>\n",
      "    test = clean[0:2].progress_apply(find_matches, args=[3], axis=1)\n",
      "  File \"D:\\Anaconda\\lib\\site-packages\\tqdm\\std.py\", line 741, in inner\n",
      "    result = getattr(df, df_function)(wrapper, **kwargs)\n",
      "  File \"D:\\Anaconda\\lib\\site-packages\\pandas\\core\\frame.py\", line 6875, in apply\n",
      "    return op.get_result()\n",
      "  File \"D:\\Anaconda\\lib\\site-packages\\pandas\\core\\apply.py\", line 186, in get_result\n",
      "    return self.apply_standard()\n",
      "  File \"D:\\Anaconda\\lib\\site-packages\\pandas\\core\\apply.py\", line 296, in apply_standard\n",
      "    values, self.f, axis=self.axis, dummy=dummy, labels=labels\n",
      "  File \"pandas\\_libs\\reduction.pyx\", line 617, in pandas._libs.reduction.compute_reduction\n",
      "  File \"pandas\\_libs\\reduction.pyx\", line 127, in pandas._libs.reduction.Reducer.get_result\n",
      "  File \"D:\\Anaconda\\lib\\site-packages\\pandas\\core\\apply.py\", line 113, in f\n",
      "    return func(x, *args, **kwds)\n",
      "  File \"D:\\Anaconda\\lib\\site-packages\\tqdm\\std.py\", line 737, in wrapper\n",
      "    return func(*args, **kwargs)\n",
      "  File \"<ipython-input-27-72c379344f89>\", line 3, in find_matches\n",
      "    names = np.where((levenshtein_ratio_and_distance(voc.fullNameOriginal, name) <= distance)\n",
      "  File \"<ipython-input-20-cf7be1084b1d>\", line 24, in levenshtein_ratio_and_distance\n",
      "    if s[row-1] == t[col-1]:\n",
      "  File \"D:\\Anaconda\\lib\\site-packages\\pandas\\core\\series.py\", line 871, in __getitem__\n",
      "    result = self.index.get_value(self, key)\n",
      "  File \"D:\\Anaconda\\lib\\site-packages\\pandas\\core\\indexes\\base.py\", line 4379, in get_value\n",
      "    s = extract_array(series, extract_numpy=True)\n",
      "  File \"D:\\Anaconda\\lib\\site-packages\\pandas\\core\\construction.py\", line 379, in extract_array\n",
      "    if isinstance(obj, (ABCIndexClass, ABCSeries)):\n",
      "  File \"D:\\Anaconda\\lib\\site-packages\\pandas\\core\\dtypes\\generic.py\", line 12, in _check\n",
      "    return getattr(inst, attr, \"_typ\") in comp\n",
      "KeyboardInterrupt\n",
      "\n",
      "During handling of the above exception, another exception occurred:\n",
      "\n",
      "Traceback (most recent call last):\n",
      "  File \"D:\\Anaconda\\lib\\site-packages\\IPython\\core\\interactiveshell.py\", line 2040, in showtraceback\n",
      "    stb = value._render_traceback_()\n",
      "AttributeError: 'KeyboardInterrupt' object has no attribute '_render_traceback_'\n",
      "\n",
      "During handling of the above exception, another exception occurred:\n",
      "\n",
      "Traceback (most recent call last):\n",
      "  File \"D:\\Anaconda\\lib\\site-packages\\IPython\\core\\ultratb.py\", line 1101, in get_records\n",
      "    return _fixed_getinnerframes(etb, number_of_lines_of_context, tb_offset)\n",
      "  File \"D:\\Anaconda\\lib\\site-packages\\IPython\\core\\ultratb.py\", line 319, in wrapped\n",
      "    return f(*args, **kwargs)\n",
      "  File \"D:\\Anaconda\\lib\\site-packages\\IPython\\core\\ultratb.py\", line 353, in _fixed_getinnerframes\n",
      "    records = fix_frame_records_filenames(inspect.getinnerframes(etb, context))\n",
      "  File \"D:\\Anaconda\\lib\\inspect.py\", line 1500, in getinnerframes\n",
      "    frameinfo = (tb.tb_frame,) + getframeinfo(tb, context)\n",
      "  File \"D:\\Anaconda\\lib\\inspect.py\", line 1462, in getframeinfo\n",
      "    lines, lnum = findsource(frame)\n",
      "  File \"D:\\Anaconda\\lib\\site-packages\\IPython\\core\\ultratb.py\", line 185, in findsource\n",
      "    lines = linecache.getlines(file, globals_dict)\n",
      "  File \"D:\\Anaconda\\lib\\linecache.py\", line 47, in getlines\n",
      "    return updatecache(filename, module_globals)\n",
      "  File \"D:\\Anaconda\\lib\\linecache.py\", line 136, in updatecache\n",
      "    with tokenize.open(fullname) as fp:\n",
      "  File \"D:\\Anaconda\\lib\\tokenize.py\", line 449, in open\n",
      "    encoding, lines = detect_encoding(buffer.readline)\n",
      "  File \"D:\\Anaconda\\lib\\tokenize.py\", line 418, in detect_encoding\n",
      "    first = read_or_stop()\n",
      "  File \"D:\\Anaconda\\lib\\tokenize.py\", line 376, in read_or_stop\n",
      "    return readline()\n",
      "KeyboardInterrupt\n"
     ]
    },
    {
     "ename": "KeyboardInterrupt",
     "evalue": "",
     "output_type": "error",
     "traceback": [
      "\u001b[1;31m---------------------------------------------------------------------------\u001b[0m"
     ]
    }
   ],
   "source": [
    "test = clean[0:2].progress_apply(find_matches, args=[3], axis=1)"
   ]
  },
  {
   "cell_type": "code",
   "execution_count": 8,
   "metadata": {},
   "outputs": [
    {
     "data": {
      "text/plain": [
       "0                        (Margareta van Zuijdewijk, [])\n",
       "1                                (Trijntje Baptist, [])\n",
       "2                                 (Isaak van Koten, [])\n",
       "3                                      (Jan Coetze, [])\n",
       "4                      (Aaffje Lubberts de Ruijter, [])\n",
       "                            ...                        \n",
       "95                                     (Jan Bruyns, [])\n",
       "96                          (David Boomgaerd, [374051])\n",
       "97    (Jan Willemsz, [7148, 12329, 12753, 15051, 174...\n",
       "98                         (Johan Friedrich Bauman, [])\n",
       "99    (Andries Janssen, [7679, 11178, 11241, 24821, ...\n",
       "Length: 100, dtype: object"
      ]
     },
     "execution_count": 8,
     "metadata": {},
     "output_type": "execute_result"
    }
   ],
   "source": [
    "test"
   ]
  },
  {
   "cell_type": "code",
   "execution_count": 16,
   "metadata": {},
   "outputs": [
    {
     "data": {
      "text/plain": [
       "0                     (Margareta van Zuijdewijk, ([],))\n",
       "1                             (Trijntje Baptist, ([],))\n",
       "2                              (Isaak van Koten, ([],))\n",
       "3                                   (Jan Coetze, ([],))\n",
       "4                   (Aaffje Lubberts de Ruijter, ([],))\n",
       "                            ...                        \n",
       "95                                  (Jan Bruyns, ([],))\n",
       "96                       (David Boomgaerd, ([374051],))\n",
       "97    (Jan Willemsz, ([7148, 12329, 12753, 15051, 17...\n",
       "98                      (Johan Friedrich Bauman, ([],))\n",
       "99    (Andries Janssen, ([7679, 11178, 11241, 24821,...\n",
       "Length: 100, dtype: object"
      ]
     },
     "execution_count": 16,
     "metadata": {},
     "output_type": "execute_result"
    }
   ],
   "source": [
    "test"
   ]
  },
  {
   "cell_type": "code",
   "execution_count": 17,
   "metadata": {},
   "outputs": [
    {
     "ename": "SyntaxError",
     "evalue": "invalid syntax (<ipython-input-17-45df3107c36b>, line 1)",
     "output_type": "error",
     "traceback": [
      "\u001b[1;36m  File \u001b[1;32m\"<ipython-input-17-45df3107c36b>\"\u001b[1;36m, line \u001b[1;32m1\u001b[0m\n\u001b[1;33m    23 seconden\u001b[0m\n\u001b[1;37m              ^\u001b[0m\n\u001b[1;31mSyntaxError\u001b[0m\u001b[1;31m:\u001b[0m invalid syntax\n"
     ]
    }
   ],
   "source": [
    "23 seconden"
   ]
  },
  {
   "cell_type": "code",
   "execution_count": null,
   "metadata": {},
   "outputs": [],
   "source": []
  }
 ],
 "metadata": {
  "kernelspec": {
   "display_name": "Python 3",
   "language": "python",
   "name": "python3"
  },
  "language_info": {
   "codemirror_mode": {
    "name": "ipython",
    "version": 3
   },
   "file_extension": ".py",
   "mimetype": "text/x-python",
   "name": "python",
   "nbconvert_exporter": "python",
   "pygments_lexer": "ipython3",
   "version": "3.7.1"
  }
 },
 "nbformat": 4,
 "nbformat_minor": 2
}
