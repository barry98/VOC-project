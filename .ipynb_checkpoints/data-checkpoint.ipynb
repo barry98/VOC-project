{
 "cells": [
  {
   "cell_type": "code",
   "execution_count": 31,
   "metadata": {},
   "outputs": [],
   "source": [
    "import xml.etree.cElementTree as et\n",
    "import pandas as pd\n",
    "import os\n",
    "import re\n",
    "from tqdm import tqdm_notebook"
   ]
  },
  {
   "cell_type": "markdown",
   "metadata": {},
   "source": [
    "## Notarieel archief"
   ]
  },
  {
   "cell_type": "code",
   "execution_count": null,
   "metadata": {},
   "outputs": [],
   "source": [
    "df_cols = [\"uuid\", \"rubriek\", \"notaris\", \"inventarisNr\", \"akteNr\", \"akteType\", \n",
    "           \"datering\", \"taal\", \"beschrijving\", \"namen\", 'urls']\n",
    "df = pd.DataFrame(columns = df_cols)\n",
    "for file in [\"SAA_Index_op_notarieel_archief_20191105_001\", \n",
    "             \"SAA_Index_op_notarieel_archief_20191105_002\",\n",
    "             \"SAA_Index_op_notarieel_archief_20191105_003\",\n",
    "             \"SAA_Index_op_notarieel_archief_20191105_004\",\n",
    "             \"SAA_Index_op_notarieel_archief_20191105_005\",\n",
    "             \"SAA_Index_op_notarieel_archief_20191105_006\",\n",
    "             \"SAA_Index_op_notarieel_archief_20191105_007\",\n",
    "             \"SAA_Index_op_notarieel_archief_20191105_008\",\n",
    "             \"SAA_Index_op_notarieel_archief_20191105_009\",\n",
    "             \"SAA_Index_op_notarieel_archief_20191105_010\"]:\n",
    "    parsedXML = et.parse(\"notarieel/\" + file + \".xml\")\n",
    "    root = parsedXML.getroot()\n",
    "    rows = []\n",
    "\n",
    "    for node in root: \n",
    "        if node is not None:\n",
    "            s_uuid = node.find(\"uuid\").text if node.find(\"uuid\") is not None else None\n",
    "            s_rubriek = node.find(\"rubriek\").text if node.find(\"rubriek\") is not None else None\n",
    "            s_notaris = node.find(\"notaris\").text if node.find(\"notaris\") is not None else None\n",
    "            s_inventarisNr = node.find(\"inventarisNr\").text if node.find(\"inventarisNr\") is not None else None\n",
    "            s_akteNr= node.find(\"akteNr\").text if node.find(\"akteNr\") is not None else None\n",
    "            s_akteType = node.find(\"akteType\").text if node.find(\"akteType\") is not None else None\n",
    "            s_datering = node.find(\"datering\").text if node.find(\"datering\") is not None else None\n",
    "            s_taal = node.find(\"taal\").text if node.find(\"taal\") is not None else None\n",
    "            s_beschrijving = node.find(\"beschrijving\").text if node.find(\"beschrijving\") is not None else None\n",
    "            s_namen = []\n",
    "            if node.find(\"persoonsnamen\") is not None:\n",
    "                namen = []\n",
    "                for x in node.find(\"persoonsnamen\"):\n",
    "                    voornaam = x.find(\"voornaam\").text if x.find(\"voornaam\") is not None else None\n",
    "                    tussenvoegsel = x.find(\"tussenvoegsel\").text if x.find(\"tussenvoegsel\") is not None else None\n",
    "                    achternaam = x.find(\"achternaam\").text if x.find(\"achternaam\") is not None else None\n",
    "                    scanNaam = x.find(\"scanNaam\").text if x.find(\"scanNaam\") is not None else None\n",
    "                    scanPositie = x.find(\"scanPositie\").text if x.find(\"scanPositie\") is not None else None\n",
    "                    uuidNaam = x.find(\"uuidNaam\").text if x.find(\"uuidNaam\") is not None else None\n",
    "\n",
    "                    namen.append({\"voornaam\": voornaam, \"tussenvoegsel\": tussenvoegsel, \n",
    "                         \"achternaam\": achternaam, \"scanNaam\": scanNaam, \n",
    "                         \"scanPositie\": scanPositie, \"uuidNaam\": uuidNaam})\n",
    "            else:\n",
    "                namen = None\n",
    "            if node.find(\"urlScans\") is not None:\n",
    "                urls = []\n",
    "                for x in node.find(\"urlScans\"):\n",
    "                    urlScan = x.text if x is not None else None\n",
    "                    if urlScan != None:\n",
    "                        urls.append(re.search(r'#.+', urlScan).group(0)[1:])\n",
    "            else:\n",
    "                urls = None\n",
    "        else:\n",
    "            s_uuid = None\n",
    "            s_rubriek = None\n",
    "            s_notaris = None\n",
    "            s_inventarisNr = None\n",
    "            s_akteNr= None\n",
    "            s_akteType = None\n",
    "            s_datering = None\n",
    "            s_taal = None\n",
    "            s_beschrijving = None\n",
    "        rows.append({\"uuid\": s_uuid, \"rubriek\": s_rubriek, \n",
    "                     \"notaris\": s_notaris, \"inventarisNr\": s_inventarisNr, \n",
    "                     \"akteNr\": s_akteNr, \"akteType\": s_akteType,\n",
    "                     \"datering\": s_datering, \"taal\": s_taal,\n",
    "                     \"beschrijving\": s_beschrijving, \"namen\": namen, \"urls\":urls})\n",
    "\n",
    "    out_df = pd.DataFrame(rows, columns = df_cols)\n",
    "    df = df.append(out_df)\n",
    "    df = df.reset_index(drop=True)\n"
   ]
  },
  {
   "cell_type": "code",
   "execution_count": null,
   "metadata": {},
   "outputs": [],
   "source": [
    "df"
   ]
  },
  {
   "cell_type": "markdown",
   "metadata": {},
   "source": [
    "## Scanned Data"
   ]
  },
  {
   "cell_type": "code",
   "execution_count": 6,
   "metadata": {},
   "outputs": [],
   "source": [
    "def namespace(element):\n",
    "    m = re.match(r'\\{.*\\}', element.tag)\n",
    "    return m.group(0) if m else ''"
   ]
  },
  {
   "cell_type": "code",
   "execution_count": 7,
   "metadata": {},
   "outputs": [],
   "source": [
    "files = []\n",
    "directory = 'D:\\Documenten\\Studie\\Master\\Scriptie\\scanned\\page'\n",
    "for filename in os.listdir(directory):\n",
    "    if filename.endswith(\".xml\"):\n",
    "        files.append(filename)\n",
    "    else:\n",
    "        continue"
   ]
  },
  {
   "cell_type": "code",
   "execution_count": 41,
   "metadata": {},
   "outputs": [
    {
     "name": "stderr",
     "output_type": "stream",
     "text": [
      "D:\\Anaconda\\lib\\site-packages\\ipykernel_launcher.py:3: TqdmDeprecationWarning: This function will be removed in tqdm==5.0.0\n",
      "Please use `tqdm.notebook.tqdm` instead of `tqdm.tqdm_notebook`\n",
      "  This is separate from the ipykernel package so we can avoid doing imports until\n"
     ]
    },
    {
     "data": {
      "application/vnd.jupyter.widget-view+json": {
       "model_id": "6421b51888c545cba67f146286d75b29",
       "version_major": 2,
       "version_minor": 0
      },
      "text/plain": [
       "HBox(children=(IntProgress(value=0, max=43476), HTML(value='')))"
      ]
     },
     "metadata": {},
     "output_type": "display_data"
    },
    {
     "name": "stdout",
     "output_type": "stream",
     "text": [
      "\n"
     ]
    }
   ],
   "source": [
    "df_cols = [\"page\", \"textregion\"]\n",
    "scan_df = pd.DataFrame(columns = df_cols)\n",
    "for file in tqdm_notebook(files):\n",
    "    parsedXML = et.parse('D:/Documenten/Studie/Master/Scriptie/scanned/page/' + file)\n",
    "    root = parsedXML.getroot()\n",
    "    rows = []\n",
    "    page = file[:-3] + \"JPG\"\n",
    "    text = \"\"\n",
    "    for node in root: \n",
    "        nspace = namespace(node)\n",
    "        if node is not None:\n",
    "            for child in node:\n",
    "                if child.find(nspace + \"TextEquiv\") is not None:\n",
    "                    if child.find(nspace + \"TextEquiv\").find(nspace + \"Unicode\").text is not None:\n",
    "                        text += str(child.find(nspace + \"TextEquiv\").find(nspace + \"Unicode\").text)\n",
    "    if text != \"\":           \n",
    "        rows.append({\"page\": page, \"textregion\": text })\n",
    "        out_df = pd.DataFrame(rows, columns = df_cols)\n",
    "        scan_df = scan_df.append(out_df)\n",
    "        scan_df = scan_df.reset_index(drop=True)\n"
   ]
  },
  {
   "cell_type": "markdown",
   "metadata": {},
   "source": [
    "## Cleaning data"
   ]
  },
  {
   "cell_type": "code",
   "execution_count": 42,
   "metadata": {},
   "outputs": [],
   "source": [
    "def cleaner(string):\n",
    "    string  = re.sub('\\\\n', ' ', string)\n",
    "    return string"
   ]
  },
  {
   "cell_type": "code",
   "execution_count": 43,
   "metadata": {},
   "outputs": [
    {
     "name": "stderr",
     "output_type": "stream",
     "text": [
      "D:\\Anaconda\\lib\\site-packages\\ipykernel_launcher.py:1: TqdmDeprecationWarning: This function will be removed in tqdm==5.0.0\n",
      "Please use `tqdm.notebook.tqdm` instead of `tqdm.tqdm_notebook`\n",
      "  \"\"\"Entry point for launching an IPython kernel.\n"
     ]
    },
    {
     "data": {
      "application/vnd.jupyter.widget-view+json": {
       "model_id": "394ac58d2ba247bea2051f45999b131c",
       "version_major": 2,
       "version_minor": 0
      },
      "text/plain": [
       "HBox(children=(IntProgress(value=1, bar_style='info', max=1), HTML(value='')))"
      ]
     },
     "metadata": {},
     "output_type": "display_data"
    }
   ],
   "source": [
    "tqdm_notebook().pandas()"
   ]
  },
  {
   "cell_type": "code",
   "execution_count": 44,
   "metadata": {},
   "outputs": [
    {
     "data": {
      "application/vnd.jupyter.widget-view+json": {
       "model_id": "d3dee8131ec1490caac00d729dbe7bdc",
       "version_major": 2,
       "version_minor": 0
      },
      "text/plain": [
       "HBox(children=(IntProgress(value=0, max=43182), HTML(value='')))"
      ]
     },
     "metadata": {},
     "output_type": "display_data"
    },
    {
     "name": "stdout",
     "output_type": "stream",
     "text": [
      "\n"
     ]
    }
   ],
   "source": [
    "scan_df.textregion = scan_df.textregion.progress_apply(cleaner)"
   ]
  },
  {
   "cell_type": "code",
   "execution_count": 45,
   "metadata": {},
   "outputs": [],
   "source": [
    "def writer(row):\n",
    "    file = open(str(row['page']) + \".txt\", \"w\") \n",
    "    file.write(row['textregion']) \n",
    "    file.close() "
   ]
  },
  {
   "cell_type": "code",
   "execution_count": 49,
   "metadata": {},
   "outputs": [
    {
     "data": {
      "application/vnd.jupyter.widget-view+json": {
       "model_id": "ecd5d3d913094a9f977c023c3015550d",
       "version_major": 2,
       "version_minor": 0
      },
      "text/plain": [
       "HBox(children=(IntProgress(value=0, max=43182), HTML(value='')))"
      ]
     },
     "metadata": {},
     "output_type": "display_data"
    },
    {
     "name": "stdout",
     "output_type": "stream",
     "text": [
      "\n"
     ]
    },
    {
     "data": {
      "text/plain": [
       "0        None\n",
       "1        None\n",
       "2        None\n",
       "3        None\n",
       "4        None\n",
       "         ... \n",
       "43177    None\n",
       "43178    None\n",
       "43179    None\n",
       "43180    None\n",
       "43181    None\n",
       "Length: 43182, dtype: object"
      ]
     },
     "execution_count": 49,
     "metadata": {},
     "output_type": "execute_result"
    }
   ],
   "source": [
    "os.chdir('../text_files')\n",
    "scan_df.progress_apply(writer, axis=1)"
   ]
  },
  {
   "cell_type": "code",
   "execution_count": null,
   "metadata": {},
   "outputs": [],
   "source": []
  }
 ],
 "metadata": {
  "kernelspec": {
   "display_name": "Python 3",
   "language": "python",
   "name": "python3"
  },
  "language_info": {
   "codemirror_mode": {
    "name": "ipython",
    "version": 3
   },
   "file_extension": ".py",
   "mimetype": "text/x-python",
   "name": "python",
   "nbconvert_exporter": "python",
   "pygments_lexer": "ipython3",
   "version": "3.7.1"
  }
 },
 "nbformat": 4,
 "nbformat_minor": 2
}
