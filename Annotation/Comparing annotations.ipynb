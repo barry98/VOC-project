{
 "cells": [
  {
   "cell_type": "code",
   "execution_count": 1,
   "metadata": {},
   "outputs": [],
   "source": [
    "import pandas as pd\n",
    "import pandas as pd\n",
    "import numpy as np\n",
    "from tqdm import notebook\n",
    "import ast\n",
    "import re\n",
    "from fuzzywuzzy import fuzz\n",
    "from datetime import datetime, timedelta\n",
    "import spacy\n",
    "from sklearn.model_selection import train_test_split"
   ]
  },
  {
   "cell_type": "code",
   "execution_count": 77,
   "metadata": {},
   "outputs": [],
   "source": [
    "def fleiss_kappa(ratings, n):\n",
    "    '''\n",
    "    Computes the Fleiss' kappa measure for assessing the reliability of \n",
    "    agreement between a fixed number n of raters when assigning categorical\n",
    "    ratings to a number of items.\n",
    "    \n",
    "    Args:\n",
    "        ratings: a list of (item, category)-ratings\n",
    "        n: number of raters\n",
    "        k: number of categories\n",
    "    Returns:\n",
    "        the Fleiss' kappa score\n",
    "    \n",
    "    See also:\n",
    "        http://en.wikipedia.org/wiki/Fleiss'_kappa\n",
    "    '''\n",
    "    items = set()\n",
    "    categories = set()\n",
    "    n_ij = {}\n",
    "    \n",
    "    for i, c in ratings:\n",
    "        items.add(i)\n",
    "        categories.add(c)\n",
    "        n_ij[(i,c)] = n_ij.get((i,c), 0) + 1\n",
    "    \n",
    "    N = len(items)\n",
    "    \n",
    "    p_j = dict(((c, sum(n_ij.get((i, c), 0) for i in items) / (1.0 * n * N)) for c in categories))\n",
    "    P_i = dict(((i, (sum(n_ij.get((i, c), 0) ** 2 for c in categories) - n) / (n * (n - 1.0))) for i in items))\n",
    "\n",
    "    P_bar = sum(P_i.values()) / (1.0 * N)\n",
    "    P_e_bar = sum(value ** 2 for value in p_j.values())\n",
    "    \n",
    "    kappa = (P_bar - P_e_bar) / (1 - P_e_bar)\n",
    "    \n",
    "    return kappa"
   ]
  },
  {
   "cell_type": "code",
   "execution_count": 84,
   "metadata": {},
   "outputs": [
    {
     "data": {
      "text/plain": [
       "0.35872058969924653"
      ]
     },
     "execution_count": 84,
     "metadata": {},
     "output_type": "execute_result"
    }
   ],
   "source": [
    "# ratings = [(1, 'yes')] * 10 + [(1, 'no')] * 0  + \\\n",
    "# [(2, 'yes')] * 8  + [(2, 'no')] * 2  + \\\n",
    "# [(3, 'yes')] * 9  + [(3, 'no')] * 1  + \\\n",
    "# [(4, 'yes')] * 0  + [(4, 'no')] * 10 + \\\n",
    "# [(5, 'yes')] * 7  + [(5, 'no')] * 3\n",
    "\n",
    "fleiss_kappa(ratings, 4)\n"
   ]
  },
  {
   "cell_type": "code",
   "execution_count": 73,
   "metadata": {},
   "outputs": [],
   "source": [
    "test_pat = pd.read_json('../../Annotation/Patrick/test_batch_patrick.json')"
   ]
  },
  {
   "cell_type": "code",
   "execution_count": 74,
   "metadata": {},
   "outputs": [],
   "source": [
    "test_chiel = pd.read_json('../../Annotation/Chiel/test_batch_chiel.json')"
   ]
  },
  {
   "cell_type": "code",
   "execution_count": 83,
   "metadata": {},
   "outputs": [],
   "source": [
    "ratings = []\n",
    "for x in range(len(subset2_bar[0:554])):\n",
    "    if subset2_bar.iloc[x].vocop_match == 0:\n",
    "        ratings.append((x + 1, 'no'))\n",
    "    else:\n",
    "        ratings.append((x + 1, 'yes'))\n",
    "    if subset2_bar.iloc[x].vocop_match == 0:\n",
    "        ratings.append((x + 1, 'no'))\n",
    "    else:\n",
    "        ratings.append((x + 1, 'yes'))\n",
    "    if test_pat.iloc[x].vocop_match == 0:\n",
    "        ratings.append((x + 1, 'no'))\n",
    "    else:\n",
    "        ratings.append((x + 1, 'yes'))\n",
    "    if test_chiel.iloc[x].vocop_match == 0:\n",
    "        ratings.append((x + 1, 'no'))\n",
    "    else:\n",
    "        ratings.append((x + 1, 'yes'))"
   ]
  },
  {
   "cell_type": "code",
   "execution_count": 76,
   "metadata": {},
   "outputs": [
    {
     "data": {
      "text/plain": [
       "2216"
      ]
     },
     "execution_count": 76,
     "metadata": {},
     "output_type": "execute_result"
    }
   ],
   "source": [
    "len(ratings)"
   ]
  },
  {
   "cell_type": "code",
   "execution_count": 64,
   "metadata": {},
   "outputs": [
    {
     "data": {
      "text/plain": [
       "0.9785351969239005"
      ]
     },
     "execution_count": 64,
     "metadata": {},
     "output_type": "execute_result"
    }
   ],
   "source": [
    "((6**2) + (548**2) - 554) / (554 * (554 - 1))"
   ]
  },
  {
   "cell_type": "code",
   "execution_count": 65,
   "metadata": {},
   "outputs": [
    {
     "data": {
      "text/plain": [
       "0.9785351969239005"
      ]
     },
     "execution_count": 65,
     "metadata": {},
     "output_type": "execute_result"
    }
   ],
   "source": [
    "pie = 0.9785351969239005 + 0.9785351969239005# + 0.971\n",
    "pie = pie/2\n",
    "pie"
   ]
  },
  {
   "cell_type": "code",
   "execution_count": 68,
   "metadata": {},
   "outputs": [
    {
     "name": "stdout",
     "output_type": "stream",
     "text": [
      "0.9785739420558066\n"
     ]
    },
    {
     "data": {
      "text/plain": [
       "-0.0018083182640071017"
      ]
     },
     "execution_count": 68,
     "metadata": {},
     "output_type": "execute_result"
    }
   ],
   "source": [
    "pce = ((6 + 6) / (2* 554)) ** 2 + ((548 + 548) / (2* 554)) ** 2 \n",
    "print(pce)\n",
    "(pie - pce) / (1-pce)"
   ]
  },
  {
   "cell_type": "code",
   "execution_count": 2,
   "metadata": {},
   "outputs": [],
   "source": [
    "path = 'Completed Batches/'\n",
    "subset1_pat = pd.read_json(path + 'batch1_patrick_result.json')\n",
    "subset2_pat = pd.read_json(path + 'batch2_patrick_result.json')\n",
    "subset3_pat = pd.read_json(path + 'batch3_patrick_result.json')\n",
    "subset4_pat = pd.read_json(path + 'batch4_patrick_result.json')\n",
    "subset5_pat = pd.read_json(path + 'batch5_patrick_result.json')\n",
    "subset1_thom = pd.read_json(path + 'batch1_thom_result.json')\n",
    "subset1_chiel = pd.read_json(path + 'batch1_chiel_result.json')\n",
    "subset2_chiel = pd.read_json(path + 'batch2_chiel_result.json')\n",
    "subset3_chiel = pd.read_json(path + 'batch3_chiel_result.json')\n",
    "subset1_bar = pd.read_json(path + 'batch1_result.json')\n",
    "subset2_bar = pd.read_json(path + 'result.json')\n",
    "subset3_bar = pd.read_json(path + 'batch2_result.json')\n",
    "subset4_bar = pd.read_json(path + 'batch3_result.json')\n",
    "subset5_bar = pd.read_json(path + 'batch4_result.json')\n",
    "subset6_bar = pd.read_json(path + 'batch2_thom_result.json')"
   ]
  },
  {
   "cell_type": "code",
   "execution_count": 21,
   "metadata": {},
   "outputs": [
    {
     "data": {
      "text/plain": [
       "991"
      ]
     },
     "execution_count": 21,
     "metadata": {},
     "output_type": "execute_result"
    }
   ],
   "source": [
    "len(subset2_bar[subset2_bar.vocop_match == 0])"
   ]
  },
  {
   "cell_type": "markdown",
   "metadata": {},
   "source": [
    "#### Correcties:\n",
    "Chiel:\n",
    "- Christiaan Andriesz 1416\n",
    "- Jan de Bruijn 1463\n",
    "- Abraham van de Heuvel (1823 super interessant twijfel geval)\n",
    "- Pieter van Essen (1825 super interessant twijfel geval)\n",
    "- Hans Pietersz 3792\n",
    "\n",
    "Patrick:\n",
    "- Jan Smit 4194 (zelde als de interessante gevallen van Chiel)\n",
    "- Hendrik van Alen 593 (zelfde schip maar naam is net even anders)"
   ]
  },
  {
   "cell_type": "code",
   "execution_count": 85,
   "metadata": {},
   "outputs": [],
   "source": [
    "subset1_pat.at[593, 'vocop_match'] = 0\n",
    "subset1_chiel.at[1416,'vocop_match'] = 0\n",
    "subset1_chiel.at[1463,'vocop_match'] = 0\n",
    "subset2_chiel.at[3729, 'vocop_match'] = 0\n",
    "subset4_bar.at[9025, 'vocop_match'] = ('Johannis Oosterhoff', 140442)\n",
    "subset5_bar.at[9927, 'vocop_match'] = ('Wiggert Andresz', 374198)\n",
    "subset6_bar.at[2670, 'vocop_match'] = ('Johan Christiaan Richter', 379155)\n",
    "subset6_bar.at[2688, 'vocop_match'] = ('Jacob Meijer', 178549)\n",
    "subset6_bar.at[2689, 'vocop_match'] = ('Juriaan Bartels', 178548)\n",
    "subset6_bar.at[2690, 'vocop_match'] = ('Willem Borsenius', 283179)\n",
    "subset6_bar.at[2691, 'vocop_match'] = ('Jan de Vaij', 182941)"
   ]
  },
  {
   "cell_type": "code",
   "execution_count": 86,
   "metadata": {},
   "outputs": [],
   "source": [
    "final_pat = subset1_pat\n",
    "final_pat = final_pat.append(subset2_pat)\n",
    "final_pat = final_pat.append(subset3_pat).append(subset4_pat).append(subset5_pat)\n",
    "\n",
    "final_chiel = subset1_chiel\n",
    "final_chiel = final_chiel.append(subset2_chiel)\n",
    "final_chiel = final_chiel.append(subset3_chiel)\n",
    "\n",
    "final_barry = subset1_bar\n",
    "final_barry = final_barry.append(subset2_bar).append(subset3_bar).append(subset4_bar).append(subset5_bar).append(subset6_bar)\n",
    "\n",
    "final_df = final_pat.append(final_chiel).append(subset1_thom).append(final_barry)"
   ]
  },
  {
   "cell_type": "code",
   "execution_count": 87,
   "metadata": {},
   "outputs": [
    {
     "data": {
      "text/html": [
       "<div>\n",
       "<style scoped>\n",
       "    .dataframe tbody tr th:only-of-type {\n",
       "        vertical-align: middle;\n",
       "    }\n",
       "\n",
       "    .dataframe tbody tr th {\n",
       "        vertical-align: top;\n",
       "    }\n",
       "\n",
       "    .dataframe thead th {\n",
       "        text-align: right;\n",
       "    }\n",
       "</style>\n",
       "<table border=\"1\" class=\"dataframe\">\n",
       "  <thead>\n",
       "    <tr style=\"text-align: right;\">\n",
       "      <th></th>\n",
       "      <th>uuid</th>\n",
       "      <th>rubriek</th>\n",
       "      <th>notaris</th>\n",
       "      <th>inventarisNr</th>\n",
       "      <th>akteNr</th>\n",
       "      <th>akteType</th>\n",
       "      <th>datering</th>\n",
       "      <th>taal</th>\n",
       "      <th>beschrijving</th>\n",
       "      <th>namen</th>\n",
       "      <th>urls</th>\n",
       "      <th>text</th>\n",
       "      <th>name</th>\n",
       "      <th>data_matches</th>\n",
       "      <th>data_entry</th>\n",
       "      <th>vocop_match</th>\n",
       "    </tr>\n",
       "    <tr>\n",
       "      <th>index</th>\n",
       "      <th></th>\n",
       "      <th></th>\n",
       "      <th></th>\n",
       "      <th></th>\n",
       "      <th></th>\n",
       "      <th></th>\n",
       "      <th></th>\n",
       "      <th></th>\n",
       "      <th></th>\n",
       "      <th></th>\n",
       "      <th></th>\n",
       "      <th></th>\n",
       "      <th></th>\n",
       "      <th></th>\n",
       "      <th></th>\n",
       "      <th></th>\n",
       "    </tr>\n",
       "  </thead>\n",
       "  <tbody>\n",
       "    <tr>\n",
       "      <th>372</th>\n",
       "      <td>2dd7b308-e622-01b5-22ae-abdeba00fed2</td>\n",
       "      <td>358</td>\n",
       "      <td>JAN VERLEIJ</td>\n",
       "      <td>11889</td>\n",
       "      <td>11294</td>\n",
       "      <td>Machtiging</td>\n",
       "      <td>1744-07-02</td>\n",
       "      <td>nederlands</td>\n",
       "      <td>\\nschip Nieuland; schip Zaamslag; schip Waterv...</td>\n",
       "      <td>[{'voornaam': 'Jurriaan', 'tussenvoegsel': Non...</td>\n",
       "      <td>['KLAB05459000335.JPG', 'KLAB05459000336.JPG',...</td>\n",
       "      <td>No: 259 Grseter gepasseert den 2e: Julij 1744J...</td>\n",
       "      <td>Christiaan Morgenfeld</td>\n",
       "      <td>[{'index': 44997, 'name_original': 'Christiaan...</td>\n",
       "      <td>{'44997': {'ships': [], 'rank': [], 'location'...</td>\n",
       "      <td>[Christiaan Morgenfeld, 298101]</td>\n",
       "    </tr>\n",
       "    <tr>\n",
       "      <th>375</th>\n",
       "      <td>2dd7b308-e622-01b5-22ae-abdeba00fed2</td>\n",
       "      <td>358</td>\n",
       "      <td>JAN VERLEIJ</td>\n",
       "      <td>11889</td>\n",
       "      <td>11294</td>\n",
       "      <td>Machtiging</td>\n",
       "      <td>1744-07-02</td>\n",
       "      <td>nederlands</td>\n",
       "      <td>\\nschip Nieuland; schip Zaamslag; schip Waterv...</td>\n",
       "      <td>[{'voornaam': 'Jurriaan', 'tussenvoegsel': Non...</td>\n",
       "      <td>['KLAB05459000335.JPG', 'KLAB05459000336.JPG',...</td>\n",
       "      <td>No: 259 Grseter gepasseert den 2e: Julij 1744J...</td>\n",
       "      <td>Nanning Broeder</td>\n",
       "      <td>[{'index': 68473, 'name_original': 'Nanning Br...</td>\n",
       "      <td>{'68473': {'ships': ['Zaamslag', 'ZAAMSLAG'], ...</td>\n",
       "      <td>[Nanning Broeder, 68473]</td>\n",
       "    </tr>\n",
       "    <tr>\n",
       "      <th>376</th>\n",
       "      <td>2dd7b308-e622-01b5-22ae-abdeba00fed2</td>\n",
       "      <td>358</td>\n",
       "      <td>JAN VERLEIJ</td>\n",
       "      <td>11889</td>\n",
       "      <td>11294</td>\n",
       "      <td>Machtiging</td>\n",
       "      <td>1744-07-02</td>\n",
       "      <td>nederlands</td>\n",
       "      <td>\\nschip Nieuland; schip Zaamslag; schip Waterv...</td>\n",
       "      <td>[{'voornaam': 'Jurriaan', 'tussenvoegsel': Non...</td>\n",
       "      <td>['KLAB05459000335.JPG', 'KLAB05459000336.JPG',...</td>\n",
       "      <td>No: 259 Grseter gepasseert den 2e: Julij 1744J...</td>\n",
       "      <td>Jan Fredrik Stephaan</td>\n",
       "      <td>[{'index': 256327, 'name_original': 'Jan Fredr...</td>\n",
       "      <td>{'256327': {'ships': [], 'rank': [], 'location...</td>\n",
       "      <td>[Jan Fredrik Stephaen, 289548]</td>\n",
       "    </tr>\n",
       "    <tr>\n",
       "      <th>509</th>\n",
       "      <td>ee21c8bc-bfea-25ee-c6c1-ddf74644012b</td>\n",
       "      <td>358</td>\n",
       "      <td>JAN VERLEIJ</td>\n",
       "      <td>11890</td>\n",
       "      <td>12427</td>\n",
       "      <td>Obligatie</td>\n",
       "      <td>1744-09-12</td>\n",
       "      <td>nederlands</td>\n",
       "      <td>\\nschip Diemen\\n</td>\n",
       "      <td>[{'voornaam': 'Pieter', 'tussenvoegsel': None,...</td>\n",
       "      <td>['KLAB05439000262.JPG', 'KLAB05439000263.JPG',...</td>\n",
       "      <td>Ragd werlke Getijnke Gepasseert Den 12 feptemb...</td>\n",
       "      <td>Pieter Klijn</td>\n",
       "      <td>[{'index': 2148, 'name_original': 'Pieter Clin...</td>\n",
       "      <td>{'2148': {'ships': [], 'rank': [], 'location':...</td>\n",
       "      <td>[Pieter Klijn, 284049]</td>\n",
       "    </tr>\n",
       "    <tr>\n",
       "      <th>563</th>\n",
       "      <td>35b32066-d1ee-0b29-2180-38584da36f12</td>\n",
       "      <td>358</td>\n",
       "      <td>JAN VERLEIJ</td>\n",
       "      <td>11891</td>\n",
       "      <td>11348</td>\n",
       "      <td>Obligatie</td>\n",
       "      <td>1744-10-29</td>\n",
       "      <td>nederlands</td>\n",
       "      <td>\\nschip d' Anna, VOC, 300 gulden\\n</td>\n",
       "      <td>[{'voornaam': 'Nomme', 'tussenvoegsel': None, ...</td>\n",
       "      <td>['KLAB05426000116.JPG', 'KLAB05426000117.JPG',...</td>\n",
       "      <td>No: 636 Puijete Guijfiet Den 29 Eebber 1744Nte...</td>\n",
       "      <td>Cornelis Christiaansz</td>\n",
       "      <td>[{'index': 13740, 'name_original': 'Cornelis C...</td>\n",
       "      <td>{'13740': {'ships': [], 'rank': [], 'location'...</td>\n",
       "      <td>[Cornelis Christiaansz, 329326]</td>\n",
       "    </tr>\n",
       "    <tr>\n",
       "      <th>...</th>\n",
       "      <td>...</td>\n",
       "      <td>...</td>\n",
       "      <td>...</td>\n",
       "      <td>...</td>\n",
       "      <td>...</td>\n",
       "      <td>...</td>\n",
       "      <td>...</td>\n",
       "      <td>...</td>\n",
       "      <td>...</td>\n",
       "      <td>...</td>\n",
       "      <td>...</td>\n",
       "      <td>...</td>\n",
       "      <td>...</td>\n",
       "      <td>...</td>\n",
       "      <td>...</td>\n",
       "      <td>...</td>\n",
       "    </tr>\n",
       "    <tr>\n",
       "      <th>2749</th>\n",
       "      <td>b8eafa41-8233-d58f-1022-092f1a8a69ee</td>\n",
       "      <td>358</td>\n",
       "      <td>JAN VERLEIJ</td>\n",
       "      <td>11915</td>\n",
       "      <td>15216</td>\n",
       "      <td>Testament</td>\n",
       "      <td>1751-11-15</td>\n",
       "      <td>nederlands</td>\n",
       "      <td>\\nSchip de Immegonda\\n</td>\n",
       "      <td>[{'voornaam': 'Grietje', 'tussenvoegsel': None...</td>\n",
       "      <td>['KLAB05657000441.JPG', 'KLAB05657000442.JPG',...</td>\n",
       "      <td>Calkoen L Dit Testament van man &amp; vrouw vervat...</td>\n",
       "      <td>Michiel Hendrik Kerken</td>\n",
       "      <td>[{'index': 297296, 'name_original': 'Michiel H...</td>\n",
       "      <td>{'297296': {'ships': [], 'rank': [], 'location...</td>\n",
       "      <td>[Michiel Hendrik Kerke, 409527]</td>\n",
       "    </tr>\n",
       "    <tr>\n",
       "      <th>2834</th>\n",
       "      <td>1420a408-ff1f-a7c4-6092-db5d4e4e5212</td>\n",
       "      <td>358</td>\n",
       "      <td>JAN VERLEIJ</td>\n",
       "      <td>11915</td>\n",
       "      <td>18096</td>\n",
       "      <td>Machtiging</td>\n",
       "      <td>1751-10-09</td>\n",
       "      <td>nederlands</td>\n",
       "      <td>\\nschipper schip de Jager, VOC kamer Hoorn\\n</td>\n",
       "      <td>[{'voornaam': 'Govert', 'tussenvoegsel': None,...</td>\n",
       "      <td>['KLAB05657000178.JPG', 'KLAB05657000179.JPG',...</td>\n",
       "      <td>No: 371 Procuratie gecasseerd den 4e: October ...</td>\n",
       "      <td>Jacob Leertouwen</td>\n",
       "      <td>[{'index': 268969, 'name_original': 'Jacob Lee...</td>\n",
       "      <td>{'268969': {'ships': [], 'rank': [], 'location...</td>\n",
       "      <td>[Jacob Leertouwer, 311020]</td>\n",
       "    </tr>\n",
       "    <tr>\n",
       "      <th>2880</th>\n",
       "      <td>0f0f6da3-5628-3b6a-c33d-6104c6ade355</td>\n",
       "      <td>358</td>\n",
       "      <td>JAN VERLEIJ</td>\n",
       "      <td>11915</td>\n",
       "      <td>20001</td>\n",
       "      <td>Machtiging</td>\n",
       "      <td>1751-12-28</td>\n",
       "      <td>nederlands</td>\n",
       "      <td>\\nschip Crabbendijk\\n</td>\n",
       "      <td>[{'voornaam': 'Johan', 'tussenvoegsel': 'van',...</td>\n",
       "      <td>['KLAB05657000615.JPG', 'KLAB05657000616.JPG',...</td>\n",
       "      <td>No: 505 Procuratie gecasseerd den 28e: decembr...</td>\n",
       "      <td>Johan van Veldhuijsen</td>\n",
       "      <td>[{'index': 418944, 'name_original': 'Johan van...</td>\n",
       "      <td>{'418944': {'ships': ['Krabbendijke'], 'rank':...</td>\n",
       "      <td>[Johan van Velthuijsen, 418944]</td>\n",
       "    </tr>\n",
       "    <tr>\n",
       "      <th>3018</th>\n",
       "      <td>4fbc09ce-5afe-34e3-2ab4-d323cb49722d</td>\n",
       "      <td>358</td>\n",
       "      <td>JAN VERLEIJ</td>\n",
       "      <td>11918</td>\n",
       "      <td>13012</td>\n",
       "      <td>Obligatie</td>\n",
       "      <td>1752-10-13</td>\n",
       "      <td>nederlands</td>\n",
       "      <td>\\nstuurman schip \"Bloemendaal\"  OIC\\n</td>\n",
       "      <td>[{'voornaam': 'Hendrik Coenraad', 'tussenvoegs...</td>\n",
       "      <td>['KLAB05633000172.JPG', 'KLAB05633000173.JPG',...</td>\n",
       "      <td>gi:157 Obtligatie gecasseerd den 13e: Octobr: ...</td>\n",
       "      <td>Simon Smit</td>\n",
       "      <td>[{'index': 144359, 'name_original': 'Simon Smi...</td>\n",
       "      <td>{'144359': {'ships': [], 'rank': [], 'location...</td>\n",
       "      <td>[Simon Smit, 396195]</td>\n",
       "    </tr>\n",
       "    <tr>\n",
       "      <th>3096</th>\n",
       "      <td>cbdb6075-f078-b8c1-d729-27649766ac02</td>\n",
       "      <td>358</td>\n",
       "      <td>JAN VERLEIJ</td>\n",
       "      <td>11918</td>\n",
       "      <td>18309</td>\n",
       "      <td>Machtiging</td>\n",
       "      <td>1752-10-09</td>\n",
       "      <td>nederlands</td>\n",
       "      <td>\\nSchip Wickenburg; Schip Baarzande\\n</td>\n",
       "      <td>[{'voornaam': 'Pieter', 'tussenvoegsel': None,...</td>\n",
       "      <td>['KLAB05633000146.JPG', 'KLAB05633000147.JPG']</td>\n",
       "      <td>B:S09 Procuratie gecasseerd den 9e: octobr: 17...</td>\n",
       "      <td>Pieter Havedoorn</td>\n",
       "      <td>[{'index': 92624, 'name_original': 'Pieter Hav...</td>\n",
       "      <td>{'92624': {'ships': ['Wickenburg', 'BAARZANDE'...</td>\n",
       "      <td>[Pieter Havedoren, 92624]</td>\n",
       "    </tr>\n",
       "  </tbody>\n",
       "</table>\n",
       "<p>101 rows × 16 columns</p>\n",
       "</div>"
      ],
      "text/plain": [
       "                                       uuid  rubriek      notaris  \\\n",
       "index                                                               \n",
       "372    2dd7b308-e622-01b5-22ae-abdeba00fed2      358  JAN VERLEIJ   \n",
       "375    2dd7b308-e622-01b5-22ae-abdeba00fed2      358  JAN VERLEIJ   \n",
       "376    2dd7b308-e622-01b5-22ae-abdeba00fed2      358  JAN VERLEIJ   \n",
       "509    ee21c8bc-bfea-25ee-c6c1-ddf74644012b      358  JAN VERLEIJ   \n",
       "563    35b32066-d1ee-0b29-2180-38584da36f12      358  JAN VERLEIJ   \n",
       "...                                     ...      ...          ...   \n",
       "2749   b8eafa41-8233-d58f-1022-092f1a8a69ee      358  JAN VERLEIJ   \n",
       "2834   1420a408-ff1f-a7c4-6092-db5d4e4e5212      358  JAN VERLEIJ   \n",
       "2880   0f0f6da3-5628-3b6a-c33d-6104c6ade355      358  JAN VERLEIJ   \n",
       "3018   4fbc09ce-5afe-34e3-2ab4-d323cb49722d      358  JAN VERLEIJ   \n",
       "3096   cbdb6075-f078-b8c1-d729-27649766ac02      358  JAN VERLEIJ   \n",
       "\n",
       "       inventarisNr  akteNr    akteType    datering        taal  \\\n",
       "index                                                             \n",
       "372           11889   11294  Machtiging  1744-07-02  nederlands   \n",
       "375           11889   11294  Machtiging  1744-07-02  nederlands   \n",
       "376           11889   11294  Machtiging  1744-07-02  nederlands   \n",
       "509           11890   12427   Obligatie  1744-09-12  nederlands   \n",
       "563           11891   11348   Obligatie  1744-10-29  nederlands   \n",
       "...             ...     ...         ...         ...         ...   \n",
       "2749          11915   15216   Testament  1751-11-15  nederlands   \n",
       "2834          11915   18096  Machtiging  1751-10-09  nederlands   \n",
       "2880          11915   20001  Machtiging  1751-12-28  nederlands   \n",
       "3018          11918   13012   Obligatie  1752-10-13  nederlands   \n",
       "3096          11918   18309  Machtiging  1752-10-09  nederlands   \n",
       "\n",
       "                                            beschrijving  \\\n",
       "index                                                      \n",
       "372    \\nschip Nieuland; schip Zaamslag; schip Waterv...   \n",
       "375    \\nschip Nieuland; schip Zaamslag; schip Waterv...   \n",
       "376    \\nschip Nieuland; schip Zaamslag; schip Waterv...   \n",
       "509                                     \\nschip Diemen\\n   \n",
       "563                   \\nschip d' Anna, VOC, 300 gulden\\n   \n",
       "...                                                  ...   \n",
       "2749                              \\nSchip de Immegonda\\n   \n",
       "2834        \\nschipper schip de Jager, VOC kamer Hoorn\\n   \n",
       "2880                               \\nschip Crabbendijk\\n   \n",
       "3018               \\nstuurman schip \"Bloemendaal\"  OIC\\n   \n",
       "3096               \\nSchip Wickenburg; Schip Baarzande\\n   \n",
       "\n",
       "                                                   namen  \\\n",
       "index                                                      \n",
       "372    [{'voornaam': 'Jurriaan', 'tussenvoegsel': Non...   \n",
       "375    [{'voornaam': 'Jurriaan', 'tussenvoegsel': Non...   \n",
       "376    [{'voornaam': 'Jurriaan', 'tussenvoegsel': Non...   \n",
       "509    [{'voornaam': 'Pieter', 'tussenvoegsel': None,...   \n",
       "563    [{'voornaam': 'Nomme', 'tussenvoegsel': None, ...   \n",
       "...                                                  ...   \n",
       "2749   [{'voornaam': 'Grietje', 'tussenvoegsel': None...   \n",
       "2834   [{'voornaam': 'Govert', 'tussenvoegsel': None,...   \n",
       "2880   [{'voornaam': 'Johan', 'tussenvoegsel': 'van',...   \n",
       "3018   [{'voornaam': 'Hendrik Coenraad', 'tussenvoegs...   \n",
       "3096   [{'voornaam': 'Pieter', 'tussenvoegsel': None,...   \n",
       "\n",
       "                                                    urls  \\\n",
       "index                                                      \n",
       "372    ['KLAB05459000335.JPG', 'KLAB05459000336.JPG',...   \n",
       "375    ['KLAB05459000335.JPG', 'KLAB05459000336.JPG',...   \n",
       "376    ['KLAB05459000335.JPG', 'KLAB05459000336.JPG',...   \n",
       "509    ['KLAB05439000262.JPG', 'KLAB05439000263.JPG',...   \n",
       "563    ['KLAB05426000116.JPG', 'KLAB05426000117.JPG',...   \n",
       "...                                                  ...   \n",
       "2749   ['KLAB05657000441.JPG', 'KLAB05657000442.JPG',...   \n",
       "2834   ['KLAB05657000178.JPG', 'KLAB05657000179.JPG',...   \n",
       "2880   ['KLAB05657000615.JPG', 'KLAB05657000616.JPG',...   \n",
       "3018   ['KLAB05633000172.JPG', 'KLAB05633000173.JPG',...   \n",
       "3096      ['KLAB05633000146.JPG', 'KLAB05633000147.JPG']   \n",
       "\n",
       "                                                    text  \\\n",
       "index                                                      \n",
       "372    No: 259 Grseter gepasseert den 2e: Julij 1744J...   \n",
       "375    No: 259 Grseter gepasseert den 2e: Julij 1744J...   \n",
       "376    No: 259 Grseter gepasseert den 2e: Julij 1744J...   \n",
       "509    Ragd werlke Getijnke Gepasseert Den 12 feptemb...   \n",
       "563    No: 636 Puijete Guijfiet Den 29 Eebber 1744Nte...   \n",
       "...                                                  ...   \n",
       "2749   Calkoen L Dit Testament van man & vrouw vervat...   \n",
       "2834   No: 371 Procuratie gecasseerd den 4e: October ...   \n",
       "2880   No: 505 Procuratie gecasseerd den 28e: decembr...   \n",
       "3018   gi:157 Obtligatie gecasseerd den 13e: Octobr: ...   \n",
       "3096   B:S09 Procuratie gecasseerd den 9e: octobr: 17...   \n",
       "\n",
       "                         name  \\\n",
       "index                           \n",
       "372     Christiaan Morgenfeld   \n",
       "375           Nanning Broeder   \n",
       "376      Jan Fredrik Stephaan   \n",
       "509              Pieter Klijn   \n",
       "563     Cornelis Christiaansz   \n",
       "...                       ...   \n",
       "2749   Michiel Hendrik Kerken   \n",
       "2834         Jacob Leertouwen   \n",
       "2880    Johan van Veldhuijsen   \n",
       "3018               Simon Smit   \n",
       "3096         Pieter Havedoorn   \n",
       "\n",
       "                                            data_matches  \\\n",
       "index                                                      \n",
       "372    [{'index': 44997, 'name_original': 'Christiaan...   \n",
       "375    [{'index': 68473, 'name_original': 'Nanning Br...   \n",
       "376    [{'index': 256327, 'name_original': 'Jan Fredr...   \n",
       "509    [{'index': 2148, 'name_original': 'Pieter Clin...   \n",
       "563    [{'index': 13740, 'name_original': 'Cornelis C...   \n",
       "...                                                  ...   \n",
       "2749   [{'index': 297296, 'name_original': 'Michiel H...   \n",
       "2834   [{'index': 268969, 'name_original': 'Jacob Lee...   \n",
       "2880   [{'index': 418944, 'name_original': 'Johan van...   \n",
       "3018   [{'index': 144359, 'name_original': 'Simon Smi...   \n",
       "3096   [{'index': 92624, 'name_original': 'Pieter Hav...   \n",
       "\n",
       "                                              data_entry  \\\n",
       "index                                                      \n",
       "372    {'44997': {'ships': [], 'rank': [], 'location'...   \n",
       "375    {'68473': {'ships': ['Zaamslag', 'ZAAMSLAG'], ...   \n",
       "376    {'256327': {'ships': [], 'rank': [], 'location...   \n",
       "509    {'2148': {'ships': [], 'rank': [], 'location':...   \n",
       "563    {'13740': {'ships': [], 'rank': [], 'location'...   \n",
       "...                                                  ...   \n",
       "2749   {'297296': {'ships': [], 'rank': [], 'location...   \n",
       "2834   {'268969': {'ships': [], 'rank': [], 'location...   \n",
       "2880   {'418944': {'ships': ['Krabbendijke'], 'rank':...   \n",
       "3018   {'144359': {'ships': [], 'rank': [], 'location...   \n",
       "3096   {'92624': {'ships': ['Wickenburg', 'BAARZANDE'...   \n",
       "\n",
       "                           vocop_match  \n",
       "index                                   \n",
       "372    [Christiaan Morgenfeld, 298101]  \n",
       "375           [Nanning Broeder, 68473]  \n",
       "376     [Jan Fredrik Stephaen, 289548]  \n",
       "509             [Pieter Klijn, 284049]  \n",
       "563    [Cornelis Christiaansz, 329326]  \n",
       "...                                ...  \n",
       "2749   [Michiel Hendrik Kerke, 409527]  \n",
       "2834        [Jacob Leertouwer, 311020]  \n",
       "2880   [Johan van Velthuijsen, 418944]  \n",
       "3018              [Simon Smit, 396195]  \n",
       "3096         [Pieter Havedoren, 92624]  \n",
       "\n",
       "[101 rows x 16 columns]"
      ]
     },
     "execution_count": 87,
     "metadata": {},
     "output_type": "execute_result"
    }
   ],
   "source": [
    "final_df = final_df.loc[~final_df.index.duplicated(keep='first')]\n",
    "final_df.index.name = 'index'\n",
    "final_df.to_csv('../final_df.csv', index=True)\n",
    "final_df[final_df.vocop_match != 0]"
   ]
  },
  {
   "cell_type": "code",
   "execution_count": 98,
   "metadata": {},
   "outputs": [
    {
     "data": {
      "text/plain": [
       "[{'index': 476312,\n",
       "  'name_original': 'Elias Stodius',\n",
       "  'name_normalized': 'Elias Stodius',\n",
       "  'date_out': '1760-03-26',\n",
       "  'date_return': '1762-06-24',\n",
       "  'ship_out': 'Bosschenhove',\n",
       "  'ship_return': 'ZUID-BEVELAND',\n",
       "  'rank': 'Bosschieter',\n",
       "  'place_of_origin': 'Stokholm'},\n",
       " {'index': 489721,\n",
       "  'name_original': 'Elias Stodius',\n",
       "  'name_normalized': 'Elias Stodius',\n",
       "  'date_out': '1754-11-02',\n",
       "  'date_return': '1757-08-14',\n",
       "  'ship_out': 'Herstelder',\n",
       "  'ship_return': 'LUXEMBURG',\n",
       "  'rank': 'Matroos',\n",
       "  'place_of_origin': 'Stokkolm'},\n",
       " {'index': 493407,\n",
       "  'name_original': 'Elias Stodius',\n",
       "  'name_normalized': 'Elias Stodius',\n",
       "  'date_out': '1762-10-31',\n",
       "  'date_return': '1764-07-27',\n",
       "  'ship_out': 'Westerveld',\n",
       "  'ship_return': 'WESTERVELD',\n",
       "  'rank': 'Kwartiermeester',\n",
       "  'place_of_origin': 'Stokholm'},\n",
       " {'index': 525806,\n",
       "  'name_original': 'Elias Stodlius',\n",
       "  'name_normalized': 'Elias Stodlius',\n",
       "  'date_out': '1757-12-30',\n",
       "  'date_return': '1759-10-03',\n",
       "  'ship_out': 'Renswoude',\n",
       "  'ship_return': 'RENSWOUDE',\n",
       "  'rank': 'Bosschieter',\n",
       "  'place_of_origin': 'Stokholm'},\n",
       " {'index': 586155,\n",
       "  'name_original': 'Elias Stodius',\n",
       "  'name_normalized': 'Elias Stodius',\n",
       "  'date_out': '1765-06-18',\n",
       "  'date_return': '1767-07-17',\n",
       "  'ship_out': 'Nieuw Nieuwerkerk',\n",
       "  'ship_return': None,\n",
       "  'rank': 'Konstabel',\n",
       "  'place_of_origin': 'Stokholm'}]"
      ]
     },
     "execution_count": 98,
     "metadata": {},
     "output_type": "execute_result"
    }
   ],
   "source": [
    "final_df.loc[5687].data_matches"
   ]
  },
  {
   "cell_type": "code",
   "execution_count": 6,
   "metadata": {},
   "outputs": [],
   "source": [
    "nlp = spacy.load('nl_core_news_sm', disable=['parser', 'tagger', 'textcat'])"
   ]
  },
  {
   "cell_type": "code",
   "execution_count": 7,
   "metadata": {},
   "outputs": [],
   "source": [
    "def match_neighbour(start, end, true, prev, distance):\n",
    "    if true == []:\n",
    "        return (start, end), prev.i\n",
    "    if prev.i == len(prev.doc) - 1:\n",
    "        return (start, end), prev.i\n",
    "    if fuzz.ratio(true[0].lower(), prev.nbor().text.lower()) >= distance:\n",
    "        return match_neighbour(start, prev.nbor().idx + len(prev.nbor()), true[1:], prev.nbor(), distance)\n",
    "    else:\n",
    "        return (start, end), prev.i\n",
    "\n",
    "def match_finder(row, match, distance):\n",
    "\n",
    "    true = match\n",
    "    doc = nlp(row.text)\n",
    "    locs = []\n",
    "    prev = 0\n",
    "    for token in doc:\n",
    "            for x in true:\n",
    "                if token.i > prev and type(x) == str:\n",
    "                    split = x.split(' ')\n",
    "                    if fuzz.ratio(split[0].lower(), token.text.lower()) >= distance:\n",
    "                        result, prev = match_neighbour(token.idx, token.idx + len(token), split[1:], token, distance)\n",
    "                        if result not in locs:\n",
    "                            if fuzz.ratio(row.text[result[0]:result[1]], x) >= distance:\n",
    "                                locs.append(result)\n",
    "    entities = [row.text[x[0]:x[1]] for x in locs]\n",
    "    return entities\n",
    "\n",
    "def fix_entries_ships(row, x):\n",
    "    ships = match_finder(row, [x['shipOutward'], x['shipReturn']], 80)\n",
    "    rank =  match_finder(row, [x['dutch_rank']], 80)\n",
    "    location = match_finder(row, [x['placeOfOrigin']], 90)\n",
    "#     keywords = match_finder(row, ['kamer van zeeland', 'kamer zeeland', 'kamer van amsterdam', 'kamer amsterdam', \n",
    "#                                   'kamer van hoorn', 'kamer hoorn', 'kamer enkhuizen', 'kamer van enkhuizen',\n",
    "#                                   'kamer delft', 'kamer van delft', 'oostindische compagnie', 'oostindie compagnie',\n",
    "#                                   'oostindie'], 80)\n",
    "    true_data_matches = {'ships': ships, 'location':location, 'rank':rank}#, 'keywords':keywords}\n",
    "    return true_data_matches"
   ]
  },
  {
   "cell_type": "code",
   "execution_count": 12,
   "metadata": {},
   "outputs": [
    {
     "name": "stdout",
     "output_type": "stream",
     "text": [
      "\n"
     ]
    },
    {
     "name": "stderr",
     "output_type": "stream",
     "text": [
      "D:\\Anaconda\\lib\\site-packages\\IPython\\core\\interactiveshell.py:3058: DtypeWarning: Columns (17,27,35,36,38) have mixed types.Specify dtype option on import or set low_memory=False.\n",
      "  interactivity=interactivity, compiler=compiler, result=result)\n"
     ]
    }
   ],
   "source": [
    "voc = pd.read_csv('../vocop_clustered_dutchrank.csv')"
   ]
  },
  {
   "cell_type": "code",
   "execution_count": 147,
   "metadata": {},
   "outputs": [
    {
     "data": {
      "application/vnd.jupyter.widget-view+json": {
       "model_id": "951e766680804e32a8c803afda12ec81",
       "version_major": 2,
       "version_minor": 0
      },
      "text/plain": [
       "HBox(children=(IntProgress(value=0, max=5402), HTML(value='')))"
      ]
     },
     "metadata": {},
     "output_type": "display_data"
    },
    {
     "ename": "KeyError",
     "evalue": "'shipOutward'",
     "output_type": "error",
     "traceback": [
      "\u001b[1;31m---------------------------------------------------------------------------\u001b[0m",
      "\u001b[1;31mKeyError\u001b[0m                                  Traceback (most recent call last)",
      "\u001b[1;32m<ipython-input-147-868ffd0cb968>\u001b[0m in \u001b[0;36m<module>\u001b[1;34m\u001b[0m\n\u001b[0;32m     32\u001b[0m \u001b[1;33m\u001b[0m\u001b[0m\n\u001b[0;32m     33\u001b[0m         \u001b[1;32mif\u001b[0m \u001b[0mstr\u001b[0m\u001b[1;33m(\u001b[0m\u001b[0mmatch\u001b[0m\u001b[1;33m[\u001b[0m\u001b[1;34m'index'\u001b[0m\u001b[1;33m]\u001b[0m\u001b[1;33m)\u001b[0m \u001b[1;32min\u001b[0m \u001b[0mx\u001b[0m\u001b[1;33m.\u001b[0m\u001b[0mdata_entry\u001b[0m\u001b[1;33m:\u001b[0m\u001b[1;33m\u001b[0m\u001b[1;33m\u001b[0m\u001b[0m\n\u001b[1;32m---> 34\u001b[1;33m             \u001b[0mship_matches\u001b[0m \u001b[1;33m=\u001b[0m \u001b[0mfix_entries_ships\u001b[0m\u001b[1;33m(\u001b[0m\u001b[0mx\u001b[0m\u001b[1;33m,\u001b[0m \u001b[0mmatch\u001b[0m\u001b[1;33m)\u001b[0m\u001b[1;33m\u001b[0m\u001b[1;33m\u001b[0m\u001b[0m\n\u001b[0m\u001b[0;32m     35\u001b[0m             \u001b[0mnumships\u001b[0m \u001b[1;33m=\u001b[0m \u001b[0mlen\u001b[0m\u001b[1;33m(\u001b[0m\u001b[0mship_matches\u001b[0m\u001b[1;33m[\u001b[0m\u001b[1;34m'ships'\u001b[0m\u001b[1;33m]\u001b[0m\u001b[1;33m)\u001b[0m\u001b[1;33m\u001b[0m\u001b[1;33m\u001b[0m\u001b[0m\n\u001b[0;32m     36\u001b[0m             \u001b[1;32mif\u001b[0m \u001b[0mship_matches\u001b[0m\u001b[1;33m[\u001b[0m\u001b[1;34m'rank'\u001b[0m\u001b[1;33m]\u001b[0m \u001b[1;33m!=\u001b[0m \u001b[1;33m[\u001b[0m\u001b[1;33m]\u001b[0m\u001b[1;33m:\u001b[0m\u001b[1;33m\u001b[0m\u001b[1;33m\u001b[0m\u001b[0m\n",
      "\u001b[1;32m<ipython-input-146-ba3b13e0fa7b>\u001b[0m in \u001b[0;36mfix_entries_ships\u001b[1;34m(row, x)\u001b[0m\n\u001b[0;32m     28\u001b[0m \u001b[1;33m\u001b[0m\u001b[0m\n\u001b[0;32m     29\u001b[0m \u001b[1;32mdef\u001b[0m \u001b[0mfix_entries_ships\u001b[0m\u001b[1;33m(\u001b[0m\u001b[0mrow\u001b[0m\u001b[1;33m,\u001b[0m \u001b[0mx\u001b[0m\u001b[1;33m)\u001b[0m\u001b[1;33m:\u001b[0m\u001b[1;33m\u001b[0m\u001b[1;33m\u001b[0m\u001b[0m\n\u001b[1;32m---> 30\u001b[1;33m     \u001b[0mships\u001b[0m \u001b[1;33m=\u001b[0m \u001b[0mmatch_finder\u001b[0m\u001b[1;33m(\u001b[0m\u001b[0mrow\u001b[0m\u001b[1;33m,\u001b[0m \u001b[1;33m[\u001b[0m\u001b[0mx\u001b[0m\u001b[1;33m[\u001b[0m\u001b[1;34m'shipOutward'\u001b[0m\u001b[1;33m]\u001b[0m\u001b[1;33m,\u001b[0m \u001b[0mx\u001b[0m\u001b[1;33m[\u001b[0m\u001b[1;34m'shipReturn'\u001b[0m\u001b[1;33m]\u001b[0m\u001b[1;33m]\u001b[0m\u001b[1;33m,\u001b[0m \u001b[1;36m80\u001b[0m\u001b[1;33m)\u001b[0m\u001b[1;33m\u001b[0m\u001b[1;33m\u001b[0m\u001b[0m\n\u001b[0m\u001b[0;32m     31\u001b[0m     \u001b[0mrank\u001b[0m \u001b[1;33m=\u001b[0m  \u001b[0mmatch_finder\u001b[0m\u001b[1;33m(\u001b[0m\u001b[0mrow\u001b[0m\u001b[1;33m,\u001b[0m \u001b[1;33m[\u001b[0m\u001b[0mx\u001b[0m\u001b[1;33m[\u001b[0m\u001b[1;34m'dutch_rank'\u001b[0m\u001b[1;33m]\u001b[0m\u001b[1;33m]\u001b[0m\u001b[1;33m,\u001b[0m \u001b[1;36m80\u001b[0m\u001b[1;33m)\u001b[0m\u001b[1;33m\u001b[0m\u001b[1;33m\u001b[0m\u001b[0m\n\u001b[0;32m     32\u001b[0m     \u001b[0mlocation\u001b[0m \u001b[1;33m=\u001b[0m \u001b[0mmatch_finder\u001b[0m\u001b[1;33m(\u001b[0m\u001b[0mrow\u001b[0m\u001b[1;33m,\u001b[0m \u001b[1;33m[\u001b[0m\u001b[0mx\u001b[0m\u001b[1;33m[\u001b[0m\u001b[1;34m'placeOfOrigin'\u001b[0m\u001b[1;33m]\u001b[0m\u001b[1;33m]\u001b[0m\u001b[1;33m,\u001b[0m \u001b[1;36m90\u001b[0m\u001b[1;33m)\u001b[0m\u001b[1;33m\u001b[0m\u001b[1;33m\u001b[0m\u001b[0m\n",
      "\u001b[1;31mKeyError\u001b[0m: 'shipOutward'"
     ]
    }
   ],
   "source": [
    "ranking_df = pd.DataFrame(columns=['name_ratio', 'name_count', 'day_dif', 'location', 'rank', 'numships', 'keywords', 'match', 'notary_id', 'voc_id'])\n",
    "name_dict = voc.fullNameNormalized.value_counts()\n",
    "for x in notebook.tqdm(final_df[final_df.data_matches != 0].itertuples(), total=final_df[final_df.data_matches != 0].shape[0]):\n",
    "    notary_date = datetime.strptime(x.datering, '%Y-%m-%d')\n",
    "    notid = x.Index\n",
    "    for match in x.data_matches:\n",
    "        index = str(x.Index) + '_' + str(match['index'])\n",
    "        vocid=match['index']\n",
    "        name_ratio=max(fuzz.ratio(x.name, match['name_original']), fuzz.ratio(x.name, match['name_normalized']))\n",
    "        name_count = name_dict[match['name_normalized']]\n",
    "        \n",
    "        if x.vocop_match != 0 and match['index'] == x.vocop_match[1]:\n",
    "            matched = 1\n",
    "        else:\n",
    "            matched = 0\n",
    "        \n",
    "        try:\n",
    "            out_date = datetime.strptime(match['date_out'], '%Y-%m-%d')\n",
    "        except:\n",
    "            out_date = datetime(year=1, month=1, day =1 )\n",
    "        try:\n",
    "            return_date = datetime.strptime(match['date_return'], '%Y-%m-%d')\n",
    "        except:\n",
    "            return_date = datetime(year=1, month=1, day =1 )\n",
    "        if (notary_date - out_date).days in range(0, -91, -1):\n",
    "            day_dif = -(notary_date - out_date).days\n",
    "        elif (notary_date - return_date).days in range(0, 91):\n",
    "            day_dif = (notary_date - return_date).days\n",
    "        else:\n",
    "            continue\n",
    "        \n",
    "        \n",
    "        if str(match['index']) in x.data_entry:\n",
    "            ship_matches = fix_entries_ships(x, match)\n",
    "            numships = len(ship_matches['ships'])\n",
    "            if ship_matches['rank'] != []:\n",
    "                rank = 1\n",
    "            else:\n",
    "                rank = 0\n",
    "            if ship_matches['location'] != []:\n",
    "                location = 1\n",
    "            else:\n",
    "                location = 0\n",
    "            if ship_matches['keywords'] != []:\n",
    "                keywords = 1\n",
    "            else:\n",
    "                keywords = 0\n",
    "        else:\n",
    "            numships = 0\n",
    "            rank = 0\n",
    "            location = 0\n",
    "        tempdf = pd.DataFrame(columns=['name_ratio', 'name_count', 'day_dif', 'location', 'rank', 'numships', 'keywords', 'match', 'notary_id', 'voc_id'], data={\n",
    "            'name_ratio':name_ratio,\n",
    "            'name_count':name_count,\n",
    "            'day_dif':day_dif, \n",
    "            'location':location,\n",
    "            'rank':rank,\n",
    "            'numships':numships,\n",
    "            'keywords':keywords,\n",
    "            'match':matched,\n",
    "            'notary_id':notid,\n",
    "            'voc_id':vocid\n",
    "        }, index=[index])\n",
    "        ranking_df = ranking_df.append(tempdf)"
   ]
  },
  {
   "cell_type": "code",
   "execution_count": 55,
   "metadata": {},
   "outputs": [],
   "source": [
    "ranking_df.to_csv('../preranking.csv', index=False)\n",
    "#final_df.to_csv('../final_df.csv')\n",
    "#ranking_df[ranking_df.match == 1]"
   ]
  },
  {
   "cell_type": "code",
   "execution_count": 8,
   "metadata": {},
   "outputs": [],
   "source": [
    "train, test = train_test_split(final_df, test_size=0.3, random_state=10)"
   ]
  },
  {
   "cell_type": "code",
   "execution_count": 9,
   "metadata": {},
   "outputs": [],
   "source": [
    "def match_neighbour(start, end, true, prev, distance):\n",
    "    if true == []:\n",
    "        return (start, end), prev.i\n",
    "    if prev.i == len(prev.doc) - 1:\n",
    "        return (start, end), prev.i\n",
    "    if fuzz.ratio(true[0].lower(), prev.nbor().text.lower()) >= distance:\n",
    "        return match_neighbour(start, prev.nbor().idx + len(prev.nbor()), true[1:], prev.nbor(), distance)\n",
    "    else:\n",
    "        return (start, end), prev.i\n",
    "\n",
    "def match_finder(row, match, distance):\n",
    "\n",
    "    true = match\n",
    "    doc = nlp(row.text)\n",
    "\n",
    "    locs = []\n",
    "    prev = 0\n",
    "    for token in doc:\n",
    "        for x in true:\n",
    "            if token.i > prev and type(x) == str:\n",
    "                split = x.split(' ')\n",
    "                if fuzz.ratio(split[0].lower(), token.text.lower()) >= distance:\n",
    "                    result, prev = match_neighbour(token.idx, token.idx + len(token), split[1:], token, distance)\n",
    "                    if result not in locs:\n",
    "                        if fuzz.ratio(row.text[result[0]:result[1]], x) >= distance:\n",
    "                            locs.append(result)\n",
    "                    elif len(split) > 1 and fuzz.ratio(split[1].lower(), token.text.lower()) >= distance:\n",
    "                        result, prev = match_neighbour(token.nbor(-1).idx, token.idx + len(token), split[1:], token, distance)\n",
    "                        if result not in locs:\n",
    "                            if fuzz.ratio(row.text[result[0]:result[1]], x) >= distance:\n",
    "                                locs.append(result)\n",
    "    entities = [row.text[x[0]:x[1]] for x in locs]\n",
    "    return entities\n",
    "\n",
    "def fix_entries_ships(row, x, column):\n",
    "    if type(x[column]) != float: \n",
    "        match = match_finder(row, [x[column]], 80) \n",
    "    else:\n",
    "        match = ''\n",
    "    return match"
   ]
  },
  {
   "cell_type": "markdown",
   "metadata": {},
   "source": [
    "## Dedupe Record Linking"
   ]
  },
  {
   "cell_type": "code",
   "execution_count": 13,
   "metadata": {},
   "outputs": [
    {
     "data": {
      "application/vnd.jupyter.widget-view+json": {
       "model_id": "a80cca98731d427f835a709790a4e7de",
       "version_major": 2,
       "version_minor": 0
      },
      "text/plain": [
       "HBox(children=(IntProgress(value=0, max=6767), HTML(value='')))"
      ]
     },
     "metadata": {},
     "output_type": "display_data"
    },
    {
     "name": "stdout",
     "output_type": "stream",
     "text": [
      "\n"
     ]
    }
   ],
   "source": [
    "data_n = {}\n",
    "data_v = {}\n",
    "df = train\n",
    "for x in notebook.tqdm(range(len(df))):\n",
    "    row = df.iloc[x]\n",
    "    holder = []\n",
    "    if row.data_matches != 0:\n",
    "        notary_date = datetime.strptime(row.datering, '%Y-%m-%d')\n",
    "        \n",
    "        for match in row.data_matches:\n",
    "            try:\n",
    "                out_date = datetime.strptime(match['date_out'], '%Y-%m-%d')\n",
    "            except:\n",
    "                out_date = datetime(year=1, month=1, day =1 )\n",
    "            try:\n",
    "                return_date = datetime.strptime(match['date_return'], '%Y-%m-%d')\n",
    "            except:\n",
    "                return_date = datetime(year=1, month=1, day =1 )\n",
    "            if (notary_date - out_date).days in range(0, -91, -1):\n",
    "                day_dif = -(notary_date - out_date).days\n",
    "            elif (notary_date - return_date).days in range(0, 91):\n",
    "                day_dif = (notary_date - return_date).days\n",
    "            else:\n",
    "                continue\n",
    "            \n",
    "            found_ship_out = fix_entries_ships(row, voc.iloc[match['index']], 'shipOutward')\n",
    "            found_ship_return = fix_entries_ships(row, voc.iloc[match['index']], 'shipReturn')\n",
    "            found_loc = fix_entries_ships(row, voc.iloc[match['index']], 'placeOfOrigin')\n",
    "            found_rank = fix_entries_ships(row, voc.iloc[match['index']], 'dutch_rank')\n",
    "            holder.append({'rank':found_rank, 'location':found_loc, 'found_ship_return': found_ship_return, 'found_ship_out': found_ship_out})\n",
    "            \n",
    "            if row.vocop_match != 0 and match['index'] == row.vocop_match[1]:\n",
    "                cluster = df.iloc[x].name\n",
    "            else:\n",
    "                cluster = -int(voc.iloc[match['index']].VOCOP_id)\n",
    "            name = str(voc.iloc[match['index']].fullNameOriginal)\n",
    "            rang = str(voc.iloc[match['index']].dutch_rank)\n",
    "            loc = str(voc.iloc[match['index']].placeOfOrigin)\n",
    "            ship_out = str(voc.iloc[match['index']].shipOutward) \n",
    "            ship_return = str(voc.iloc[match['index']].shipReturn)\n",
    "            data_v[-int(voc.iloc[match['index']].VOCOP_id)] = {'cluster_id': cluster, 'name':name, 'rank':rang, 'location':loc, 'ship_out': ship_out, 'ship_return': ship_return}\n",
    "    name = row['name']\n",
    "    if holder == []:\n",
    "        rang = None\n",
    "        location = None\n",
    "        ship_out= None\n",
    "        ship_return = None\n",
    "    \n",
    "    else:\n",
    "        rang = ' | '.join(set([y.lower() for x in holder for y in x['rank']]))\n",
    "        if rang == '':\n",
    "            rang = None\n",
    "        location = ' | '.join(set([y.lower() for x in holder for y in x['location']]))\n",
    "        if location == '':\n",
    "            location = None\n",
    "        ship_out = ' | '.join(set([y.lower() for x in holder for y in x['found_ship_out']]))\n",
    "        if ship_out == '':\n",
    "            ship_return = None\n",
    "        ship_return = ' | '.join(set([y.lower() for x in holder for y in x['found_ship_return']]))\n",
    "        if ship_return == '':\n",
    "            ship_return = None\n",
    "    data_n[df.iloc[x].name] = {'cluster_id': df.iloc[x].name, 'name':name, 'rank':rang, 'location':location, 'ship_out': ship_out, 'ship_return': ship_return}\n",
    "\n",
    "d_n = {'cluster_id': [data_n[x]['cluster_id'] for x in data_n], 'name': [data_n[x]['name'] for x in data_n], 'rank':[data_n[x]['rank'] for x in data_n],\n",
    "     'location':[data_n[x]['location'] for x in data_n], 'ship_out': [data_n[x]['ship_out'] for x in data_n], 'ship_return': [data_n[x]['ship_return'] for x in data_n]}\n",
    "\n",
    "d_v = {'cluster_id': [data_v[x]['cluster_id'] for x in data_v], 'name': [data_v[x]['name'] for x in data_v], 'rank':[data_v[x]['rank'] for x in data_v],\n",
    "     'location':[data_v[x]['location'] for x in data_v], 'ship_out': [data_v[x]['ship_out'] for x in data_v], 'ship_return': [data_v[x]['ship_return'] for x in data_v]}\n",
    "\n",
    "dedupe_notary = pd.DataFrame(d_n)\n",
    "dedupe_notary.index.name = 'index'\n",
    "dedupe_notary.to_csv('../train_notary.csv')\n",
    "dedupe_voc = pd.DataFrame(d_v)\n",
    "dedupe_voc.index.name = 'index'\n",
    "dedupe_voc.to_csv('../train_voc.csv')"
   ]
  },
  {
   "cell_type": "code",
   "execution_count": 14,
   "metadata": {},
   "outputs": [
    {
     "data": {
      "application/vnd.jupyter.widget-view+json": {
       "model_id": "b89fc072a45a4cf5925de91d5d62996b",
       "version_major": 2,
       "version_minor": 0
      },
      "text/plain": [
       "HBox(children=(IntProgress(value=0, max=2901), HTML(value='')))"
      ]
     },
     "metadata": {},
     "output_type": "display_data"
    },
    {
     "name": "stdout",
     "output_type": "stream",
     "text": [
      "\n"
     ]
    }
   ],
   "source": [
    "data_n = {}\n",
    "data_v = {}\n",
    "df = test\n",
    "for x in notebook.tqdm(range(len(df))):\n",
    "    row = df.iloc[x]\n",
    "    holder = []\n",
    "    if row.data_matches != 0:\n",
    "        notary_date = datetime.strptime(row.datering, '%Y-%m-%d')\n",
    "        \n",
    "        for match in row.data_matches:\n",
    "            try:\n",
    "                out_date = datetime.strptime(match['date_out'], '%Y-%m-%d')\n",
    "            except:\n",
    "                out_date = datetime(year=1, month=1, day =1 )\n",
    "            try:\n",
    "                return_date = datetime.strptime(match['date_return'], '%Y-%m-%d')\n",
    "            except:\n",
    "                return_date = datetime(year=1, month=1, day =1 )\n",
    "            if (notary_date - out_date).days in range(0, -91, -1):\n",
    "                day_dif = -(notary_date - out_date).days\n",
    "            elif (notary_date - return_date).days in range(0, 91):\n",
    "                day_dif = (notary_date - return_date).days\n",
    "            else:\n",
    "                continue\n",
    "            \n",
    "            found_ship_out = fix_entries_ships(row, voc.iloc[match['index']], 'shipOutward')\n",
    "            found_ship_return = fix_entries_ships(row, voc.iloc[match['index']], 'shipReturn')\n",
    "            found_loc = fix_entries_ships(row, voc.iloc[match['index']], 'placeOfOrigin')\n",
    "            found_rank = fix_entries_ships(row, voc.iloc[match['index']], 'dutch_rank')\n",
    "            holder.append({'rank':found_rank, 'location':found_loc, 'found_ship_return': found_ship_return, 'found_ship_out': found_ship_out})\n",
    "            \n",
    "            if row.vocop_match != 0 and match['index'] == row.vocop_match[1]:\n",
    "                cluster = df.iloc[x].name\n",
    "            else:\n",
    "                cluster = -int(voc.iloc[match['index']].VOCOP_id)\n",
    "            name = str(voc.iloc[match['index']].fullNameOriginal)\n",
    "            rang = str(voc.iloc[match['index']].dutch_rank)\n",
    "            loc = str(voc.iloc[match['index']].placeOfOrigin)\n",
    "            ship_out = str(voc.iloc[match['index']].shipOutward) \n",
    "            ship_return = str(voc.iloc[match['index']].shipReturn)\n",
    "            data_v[-int(voc.iloc[match['index']].VOCOP_id)] = {'cluster_id': cluster, 'name':name, 'rank':rang, 'location':loc, 'ship_out': ship_out, 'ship_return': ship_return}\n",
    "    name = row['name']\n",
    "    if holder == []:\n",
    "        rang = None\n",
    "        location = None\n",
    "        ship_out= None\n",
    "        ship_return = None\n",
    "    \n",
    "    else:\n",
    "        rang = ' | '.join(set([y.lower() for x in holder for y in x['rank']]))\n",
    "        if rang == '':\n",
    "            rang = None\n",
    "        location = ' | '.join(set([y.lower() for x in holder for y in x['location']]))\n",
    "        if location == '':\n",
    "            location = None\n",
    "        ship_out = ' | '.join(set([y.lower() for x in holder for y in x['found_ship_out']]))\n",
    "        if ship_out == '':\n",
    "            ship_return = None\n",
    "        ship_return = ' | '.join(set([y.lower() for x in holder for y in x['found_ship_return']]))\n",
    "        if ship_return == '':\n",
    "            ship_return = None\n",
    "    data_n[df.iloc[x].name] = {'cluster_id': df.iloc[x].name, 'name':name, 'rank':rang, 'location':location, 'ship_out': ship_out, 'ship_return': ship_return}\n",
    "\n",
    "d_n = {'cluster_id': [data_n[x]['cluster_id'] for x in data_n], 'name': [data_n[x]['name'] for x in data_n], 'rank':[data_n[x]['rank'] for x in data_n],\n",
    "     'location':[data_n[x]['location'] for x in data_n], 'ship_out': [data_n[x]['ship_out'] for x in data_n], 'ship_return': [data_n[x]['ship_return'] for x in data_n]}\n",
    "\n",
    "d_v = {'cluster_id': [data_v[x]['cluster_id'] for x in data_v], 'name': [data_v[x]['name'] for x in data_v], 'rank':[data_v[x]['rank'] for x in data_v],\n",
    "     'location':[data_v[x]['location'] for x in data_v], 'ship_out': [data_v[x]['ship_out'] for x in data_v], 'ship_return': [data_v[x]['ship_return'] for x in data_v]}\n",
    "\n",
    "dedupe_notary = pd.DataFrame(d_n)\n",
    "dedupe_notary.index.name = 'index'\n",
    "dedupe_notary.to_csv('../test_notary.csv')\n",
    "dedupe_voc = pd.DataFrame(d_v)\n",
    "dedupe_voc.index.name = 'index'\n",
    "dedupe_voc.to_csv('../test_voc.csv')"
   ]
  },
  {
   "cell_type": "code",
   "execution_count": 16,
   "metadata": {},
   "outputs": [
    {
     "data": {
      "text/plain": [
       "26"
      ]
     },
     "execution_count": 16,
     "metadata": {},
     "output_type": "execute_result"
    }
   ],
   "source": [
    "len(test[test.vocop_match != 0])"
   ]
  },
  {
   "cell_type": "code",
   "execution_count": 23,
   "metadata": {},
   "outputs": [
    {
     "data": {
      "text/plain": [
       "0.6153846153846154"
      ]
     },
     "execution_count": 23,
     "metadata": {},
     "output_type": "execute_result"
    }
   ],
   "source": [
    "16 / 26"
   ]
  },
  {
   "cell_type": "code",
   "execution_count": 22,
   "metadata": {},
   "outputs": [
    {
     "data": {
      "text/plain": [
       "17.68"
      ]
     },
     "execution_count": 22,
     "metadata": {},
     "output_type": "execute_result"
    }
   ],
   "source": [
    "26 * 0.68"
   ]
  },
  {
   "cell_type": "code",
   "execution_count": 244,
   "metadata": {},
   "outputs": [
    {
     "data": {
      "text/html": [
       "<div>\n",
       "<style scoped>\n",
       "    .dataframe tbody tr th:only-of-type {\n",
       "        vertical-align: middle;\n",
       "    }\n",
       "\n",
       "    .dataframe tbody tr th {\n",
       "        vertical-align: top;\n",
       "    }\n",
       "\n",
       "    .dataframe thead th {\n",
       "        text-align: right;\n",
       "    }\n",
       "</style>\n",
       "<table border=\"1\" class=\"dataframe\">\n",
       "  <thead>\n",
       "    <tr style=\"text-align: right;\">\n",
       "      <th></th>\n",
       "      <th>cluster_id</th>\n",
       "      <th>name</th>\n",
       "      <th>rank</th>\n",
       "      <th>location</th>\n",
       "      <th>ship_out</th>\n",
       "      <th>ship_return</th>\n",
       "    </tr>\n",
       "    <tr>\n",
       "      <th>index</th>\n",
       "      <th></th>\n",
       "      <th></th>\n",
       "      <th></th>\n",
       "      <th></th>\n",
       "      <th></th>\n",
       "      <th></th>\n",
       "    </tr>\n",
       "  </thead>\n",
       "  <tbody>\n",
       "  </tbody>\n",
       "</table>\n",
       "</div>"
      ],
      "text/plain": [
       "Empty DataFrame\n",
       "Columns: [cluster_id, name, rank, location, ship_out, ship_return]\n",
       "Index: []"
      ]
     },
     "execution_count": 244,
     "metadata": {},
     "output_type": "execute_result"
    }
   ],
   "source": [
    "dedupe_notary[dedupe_notary.isna().ship_return == False]"
   ]
  },
  {
   "cell_type": "code",
   "execution_count": 245,
   "metadata": {},
   "outputs": [
    {
     "data": {
      "text/html": [
       "<div>\n",
       "<style scoped>\n",
       "    .dataframe tbody tr th:only-of-type {\n",
       "        vertical-align: middle;\n",
       "    }\n",
       "\n",
       "    .dataframe tbody tr th {\n",
       "        vertical-align: top;\n",
       "    }\n",
       "\n",
       "    .dataframe thead th {\n",
       "        text-align: right;\n",
       "    }\n",
       "</style>\n",
       "<table border=\"1\" class=\"dataframe\">\n",
       "  <thead>\n",
       "    <tr style=\"text-align: right;\">\n",
       "      <th></th>\n",
       "      <th>cluster_id</th>\n",
       "      <th>name</th>\n",
       "      <th>rank</th>\n",
       "      <th>location</th>\n",
       "      <th>ship_out</th>\n",
       "      <th>ship_return</th>\n",
       "    </tr>\n",
       "    <tr>\n",
       "      <th>index</th>\n",
       "      <th></th>\n",
       "      <th></th>\n",
       "      <th></th>\n",
       "      <th></th>\n",
       "      <th></th>\n",
       "      <th></th>\n",
       "    </tr>\n",
       "  </thead>\n",
       "  <tbody>\n",
       "    <tr>\n",
       "      <th>0</th>\n",
       "      <td>-1085366</td>\n",
       "      <td>Jan de Vries</td>\n",
       "      <td>Bootsman</td>\n",
       "      <td>Jouver</td>\n",
       "      <td>HUIS TER DUINE</td>\n",
       "      <td>nan</td>\n",
       "    </tr>\n",
       "    <tr>\n",
       "      <th>1</th>\n",
       "      <td>-423179</td>\n",
       "      <td>Fredrik Schouten</td>\n",
       "      <td>Bottelier</td>\n",
       "      <td>Amsterdam</td>\n",
       "      <td>Ida</td>\n",
       "      <td>RUITER</td>\n",
       "    </tr>\n",
       "    <tr>\n",
       "      <th>2</th>\n",
       "      <td>-784062</td>\n",
       "      <td>Christiaan Hansz</td>\n",
       "      <td>Matroos</td>\n",
       "      <td>Scheerbeek</td>\n",
       "      <td>Leiderdorp</td>\n",
       "      <td>IMMAGONDA</td>\n",
       "    </tr>\n",
       "    <tr>\n",
       "      <th>3</th>\n",
       "      <td>-1118198</td>\n",
       "      <td>Christiaan Hansz</td>\n",
       "      <td>Bosschieter</td>\n",
       "      <td>Hadersleven</td>\n",
       "      <td>Fortuin</td>\n",
       "      <td>nan</td>\n",
       "    </tr>\n",
       "    <tr>\n",
       "      <th>4</th>\n",
       "      <td>-1310175</td>\n",
       "      <td>Christiaan Hansen</td>\n",
       "      <td>Opperstuurman</td>\n",
       "      <td>Scheerbeek</td>\n",
       "      <td>Immagonda</td>\n",
       "      <td>IMMAGONDA</td>\n",
       "    </tr>\n",
       "    <tr>\n",
       "      <th>...</th>\n",
       "      <td>...</td>\n",
       "      <td>...</td>\n",
       "      <td>...</td>\n",
       "      <td>...</td>\n",
       "      <td>...</td>\n",
       "      <td>...</td>\n",
       "    </tr>\n",
       "    <tr>\n",
       "      <th>1024</th>\n",
       "      <td>-346766</td>\n",
       "      <td>Pieter Pieterson</td>\n",
       "      <td>Bosschieter</td>\n",
       "      <td>Adersleben</td>\n",
       "      <td>Geldermalsen</td>\n",
       "      <td>nan</td>\n",
       "    </tr>\n",
       "    <tr>\n",
       "      <th>1025</th>\n",
       "      <td>-796268</td>\n",
       "      <td>Pieter Pietersz</td>\n",
       "      <td>Soldaat</td>\n",
       "      <td>Holsteijn</td>\n",
       "      <td>Duinenburg</td>\n",
       "      <td>nan</td>\n",
       "    </tr>\n",
       "    <tr>\n",
       "      <th>1026</th>\n",
       "      <td>-842628</td>\n",
       "      <td>Pieter Pietersz</td>\n",
       "      <td>Bosschieter</td>\n",
       "      <td>Bergen</td>\n",
       "      <td>Duinenburg</td>\n",
       "      <td>nan</td>\n",
       "    </tr>\n",
       "    <tr>\n",
       "      <th>1027</th>\n",
       "      <td>2690</td>\n",
       "      <td>Willem Borsenius</td>\n",
       "      <td>Bottelier</td>\n",
       "      <td>Amsterdam</td>\n",
       "      <td>Sloterdijk</td>\n",
       "      <td>HUIS TER DUINE</td>\n",
       "    </tr>\n",
       "    <tr>\n",
       "      <th>1028</th>\n",
       "      <td>-414248</td>\n",
       "      <td>Dirk van Ooijen</td>\n",
       "      <td>Bosschieter</td>\n",
       "      <td>Saerdam</td>\n",
       "      <td>Bredenhof</td>\n",
       "      <td>ZAAMSLAG</td>\n",
       "    </tr>\n",
       "  </tbody>\n",
       "</table>\n",
       "<p>1029 rows × 6 columns</p>\n",
       "</div>"
      ],
      "text/plain": [
       "       cluster_id               name           rank     location  \\\n",
       "index                                                              \n",
       "0        -1085366       Jan de Vries       Bootsman       Jouver   \n",
       "1         -423179   Fredrik Schouten      Bottelier    Amsterdam   \n",
       "2         -784062   Christiaan Hansz        Matroos   Scheerbeek   \n",
       "3        -1118198   Christiaan Hansz    Bosschieter  Hadersleven   \n",
       "4        -1310175  Christiaan Hansen  Opperstuurman   Scheerbeek   \n",
       "...           ...                ...            ...          ...   \n",
       "1024      -346766   Pieter Pieterson    Bosschieter   Adersleben   \n",
       "1025      -796268    Pieter Pietersz        Soldaat    Holsteijn   \n",
       "1026      -842628    Pieter Pietersz    Bosschieter       Bergen   \n",
       "1027         2690   Willem Borsenius      Bottelier    Amsterdam   \n",
       "1028      -414248    Dirk van Ooijen    Bosschieter      Saerdam   \n",
       "\n",
       "             ship_out     ship_return  \n",
       "index                                  \n",
       "0      HUIS TER DUINE             nan  \n",
       "1                 Ida          RUITER  \n",
       "2          Leiderdorp       IMMAGONDA  \n",
       "3             Fortuin             nan  \n",
       "4           Immagonda       IMMAGONDA  \n",
       "...               ...             ...  \n",
       "1024     Geldermalsen             nan  \n",
       "1025       Duinenburg             nan  \n",
       "1026       Duinenburg             nan  \n",
       "1027       Sloterdijk  HUIS TER DUINE  \n",
       "1028        Bredenhof        ZAAMSLAG  \n",
       "\n",
       "[1029 rows x 6 columns]"
      ]
     },
     "execution_count": 245,
     "metadata": {},
     "output_type": "execute_result"
    }
   ],
   "source": [
    "dedupe_voc"
   ]
  },
  {
   "cell_type": "code",
   "execution_count": 193,
   "metadata": {},
   "outputs": [],
   "source": [
    "def match_neighbour(start, end, true, prev, distance):\n",
    "    if true == []:\n",
    "        return (start, end), prev.i\n",
    "    if prev.i == len(prev.doc) - 1:\n",
    "        return (start, end), prev.i\n",
    "    if fuzz.ratio(true[0].lower(), prev.nbor().text.lower()) >= distance:\n",
    "        return match_neighbour(start, prev.nbor().idx + len(prev.nbor()), true[1:], prev.nbor(), distance)\n",
    "    else:\n",
    "        return (start, end), prev.i\n",
    "\n",
    "def match_finder(row, match, distance):\n",
    "\n",
    "    true = match\n",
    "    doc = nlp(row.text)\n",
    "    locs = []\n",
    "    prev = 0\n",
    "    for token in doc:\n",
    "        for x in true:\n",
    "            if type(x) == str:\n",
    "                new_token = []\n",
    "                split = x.split(' ')\n",
    "                for y in range(len(split)):\n",
    "                    if token.i <= doc[-len(split)].i:\n",
    "                        new_token.append(token.nbor(y).text)\n",
    "                new_token_text = ' '.join(new_token)\n",
    "                if fuzz.ratio(x.lower(), new_token_text.lower()) >= distance:\n",
    "                    result = (token.idx, token.idx + len(new_token_text))\n",
    "                    if result not in locs:\n",
    "                        if fuzz.ratio(row.text[result[0]:result[1]].lower(), x.lower()) >= distance:\n",
    "                            locs.append(result)\n",
    "#                 if fuzz.ratio(split[0].lower(), token.text.lower()) >= distance:\n",
    "#                     result, prev = match_neighbour(token.idx, token.idx + len(token), split[1:], token, distance)\n",
    "#                     if result not in locs:\n",
    "#                         if fuzz.ratio(row.text[result[0]:result[1]].lower(), x.lower()) >= distance:\n",
    "#                             locs.append(result)\n",
    "#     if locs == []:\n",
    "#         for token in doc:\n",
    "#             for x in true:\n",
    "#                 if type(x) == str:\n",
    "#                     split = x.split(' ')\n",
    "#                     joined = ''.join(split)\n",
    "#                     if fuzz.ratio(x.lower(), token.text.lower()) >= distance:\n",
    "#                         result, prev = match_neighbour(token.idx, token.idx + len(token), x.lower(), token, distance)\n",
    "#                         if result not in locs:\n",
    "#                             if fuzz.ratio(row.text[result[0]:result[1]].lower(), x.lower()) >= distance:\n",
    "#                                 locs.append(result)\n",
    "    entities = [row.text[x[0]:x[1]] for x in locs]\n",
    "    return entities\n",
    "\n",
    "def fix_entries_ships(row, x, column):\n",
    "    if type(x[column]) != float: \n",
    "        match = match_finder(row, [x[column]], 80) \n",
    "    else:\n",
    "        match = ''\n",
    "    return match"
   ]
  },
  {
   "cell_type": "code",
   "execution_count": 182,
   "metadata": {},
   "outputs": [
    {
     "data": {
      "text/plain": [
       "\"No: 295 Verklaring gecasseerd den 19e: apr: 1755GeennnOp heden den 19e: Augustes des Jaars 1755 Compareerde voor mij Jan verleij Notaris publiek bij den Ed: Hove van Holland ge admitteerd binnen Amsterdam resideerende d' E. E: Jurriaani295 den 19 Augt d' E. E. Jurriaan Bartels voor Luitenant en Willem Borzenuis voor onderstuurman nu 1754 Laast met het Schip 't huijs ten Duijnen uijt g Oostindien thuijs gekomen; En hebben Sij Compa� ranten die van genoegzamen ouderdom Sijn ter ^ mede requisitie van Jacob Meijer ^ voor onderstuurman met het gemelde Schip gerepatrieert; en ten behoeve van die 't verder mogte aangaan, getuijgt & verklaerd voornoemde Dat Sij betuigen op de thuijsreijse vang Schip van Bengale herwaerts, den opperstuurman Jan de Vrij (die nevens den requirant en den opper� meester harmanus Kluwen gemagtigdes was van den overledene Krank besoeker gerbrand ^ in duijdelijke bewoordingen Hendriksz) verscheijde malen ^ hebben horen Seggen dat de nagelate goederen van gemelde Krankbe� soeker, door hem Jan de Vrij en hermanus Kluwen op Bengale waren verkogt, en dat de Penningen die daer van waren geprovenieert, onder hem Jan de Vrij alleen waren berustende, en dat de twee andere gemagtigdens niets daer van onder Sig hadden gevende Sij betuigen voor redenen van wetenschap het vorenstaende te hebben gehoord gezien & bij� gewoord over sulks bereijd einde (des gerequireert werdende) 't Selve met Solemnele Eede te bevestigen Aldus gecasseerd binnen Amsterdam ter presentie van Johannes Dominieus Wensink en Bernardus hruijff als betuigen I Bardellstz Aots Jan Vereij Wluet er Nots: Johenne Toneneerd Wnm Cornerds Kresf\""
      ]
     },
     "execution_count": 182,
     "metadata": {},
     "output_type": "execute_result"
    }
   ],
   "source": [
    "final_df[final_df.vocop_match != 0].loc[2689].text"
   ]
  },
  {
   "cell_type": "code",
   "execution_count": 183,
   "metadata": {},
   "outputs": [
    {
     "data": {
      "text/plain": [
       "83"
      ]
     },
     "execution_count": 183,
     "metadata": {},
     "output_type": "execute_result"
    }
   ],
   "source": [
    "fuzz.ratio('duine', 'duijnen')"
   ]
  },
  {
   "cell_type": "code",
   "execution_count": 184,
   "metadata": {},
   "outputs": [
    {
     "name": "stdout",
     "output_type": "stream",
     "text": [
      " stinky doodoo in\n",
      " doodoo in je\n",
      " in je stinky\n",
      " je stinky poopoo\n",
      "\n",
      "\n"
     ]
    }
   ],
   "source": [
    "doc = nlp('stinky doodoo in je stinky poopoo')\n",
    "for token in doc:\n",
    "    new_token = ['']\n",
    "    for y in range(len('Huis te Duine'.split(' '))):\n",
    "        if token.i <= doc[len('Huis te Duine'.split(' '))].i:\n",
    "            new_token.append(token.nbor(y).text)\n",
    "    print(' '.join(new_token))\n",
    "        "
   ]
  },
  {
   "cell_type": "code",
   "execution_count": 194,
   "metadata": {},
   "outputs": [
    {
     "data": {
      "application/vnd.jupyter.widget-view+json": {
       "model_id": "3f464ca005874e8b81104f353bb8852f",
       "version_major": 2,
       "version_minor": 0
      },
      "text/plain": [
       "HBox(children=(IntProgress(value=0, max=101), HTML(value='')))"
      ]
     },
     "metadata": {},
     "output_type": "display_data"
    },
    {
     "name": "stdout",
     "output_type": "stream",
     "text": [
      "\n",
      "70 101\n"
     ]
    }
   ],
   "source": [
    "c = 0\n",
    "total = 0\n",
    "for x in notebook.tqdm(final_df[final_df.vocop_match != 0].itertuples(), total=final_df[final_df.vocop_match != 0].shape[0]):\n",
    "    for y in x.data_matches:\n",
    "        if y['index'] == x.vocop_match[1]:\n",
    "            test = fix_entries_ships(x, voc.iloc[y['index']], 'shipOutward')\n",
    "            if test != '':\n",
    "                total += 1\n",
    "            if test not in [[], '']:\n",
    "                c += 1\n",
    "#             else:\n",
    "#                 print(x.Index)\n",
    "#                 print(x.beschrijving)\n",
    "#                 print(voc.iloc[y['index']]['shipOutward'])\n",
    "                \n",
    "                \n",
    "print(c, total)"
   ]
  },
  {
   "cell_type": "code",
   "execution_count": 195,
   "metadata": {},
   "outputs": [
    {
     "data": {
      "application/vnd.jupyter.widget-view+json": {
       "model_id": "d77811c6a099427e85325fd9ff0e0f9f",
       "version_major": 2,
       "version_minor": 0
      },
      "text/plain": [
       "HBox(children=(IntProgress(value=0, max=101), HTML(value='')))"
      ]
     },
     "metadata": {},
     "output_type": "display_data"
    },
    {
     "name": "stdout",
     "output_type": "stream",
     "text": [
      "\n",
      "51 86\n"
     ]
    }
   ],
   "source": [
    "c = 0\n",
    "total = 0\n",
    "for x in notebook.tqdm(final_df[final_df.vocop_match != 0].itertuples(), total=final_df[final_df.vocop_match != 0].shape[0]):\n",
    "    for y in x.data_matches:\n",
    "        if y['index'] == x.vocop_match[1]:\n",
    "            test = fix_entries_ships(x, voc.iloc[y['index']], 'shipReturn')\n",
    "            if test != '':\n",
    "                total += 1\n",
    "            if test not in [[], '']:\n",
    "                c += 1\n",
    "                \n",
    "print(c, total)"
   ]
  },
  {
   "cell_type": "code",
   "execution_count": 191,
   "metadata": {},
   "outputs": [
    {
     "data": {
      "application/vnd.jupyter.widget-view+json": {
       "model_id": "d8bfc82a68d24441890db8c3f9c2ebd1",
       "version_major": 2,
       "version_minor": 0
      },
      "text/plain": [
       "HBox(children=(IntProgress(value=0, max=101), HTML(value='')))"
      ]
     },
     "metadata": {},
     "output_type": "display_data"
    },
    {
     "name": "stdout",
     "output_type": "stream",
     "text": [
      "\n",
      "38 101\n"
     ]
    }
   ],
   "source": [
    "c = 0\n",
    "total = 0\n",
    "for x in notebook.tqdm(final_df[final_df.vocop_match != 0].itertuples(), total=final_df[final_df.vocop_match != 0].shape[0]):\n",
    "    for y in x.data_matches:\n",
    "        if y['index'] == x.vocop_match[1]:\n",
    "            test = fix_entries_ships(x, voc.iloc[y['index']], 'dutch_rank')\n",
    "            if test != '':\n",
    "                total += 1\n",
    "            if test not in [[], '']:\n",
    "                c += 1\n",
    "                \n",
    "print(c, total)"
   ]
  },
  {
   "cell_type": "code",
   "execution_count": 192,
   "metadata": {},
   "outputs": [
    {
     "data": {
      "application/vnd.jupyter.widget-view+json": {
       "model_id": "a406f8ec7961430f806034553e100a67",
       "version_major": 2,
       "version_minor": 0
      },
      "text/plain": [
       "HBox(children=(IntProgress(value=0, max=101), HTML(value='')))"
      ]
     },
     "metadata": {},
     "output_type": "display_data"
    },
    {
     "name": "stdout",
     "output_type": "stream",
     "text": [
      "\n",
      "56 101\n"
     ]
    }
   ],
   "source": [
    "c = 0\n",
    "total = 0\n",
    "for x in notebook.tqdm(final_df[final_df.vocop_match != 0].itertuples(), total=final_df[final_df.vocop_match != 0].shape[0]):\n",
    "    for y in x.data_matches:\n",
    "        if y['index'] == x.vocop_match[1]:\n",
    "            test = fix_entries_ships(x, voc.iloc[y['index']], 'placeOfOrigin')\n",
    "            if test != '':\n",
    "                total += 1\n",
    "            if test not in [[], '']:\n",
    "                c += 1\n",
    "                \n",
    "print(c, total)"
   ]
  },
  {
   "cell_type": "code",
   "execution_count": null,
   "metadata": {},
   "outputs": [],
   "source": []
  }
 ],
 "metadata": {
  "kernelspec": {
   "display_name": "Python 3",
   "language": "python",
   "name": "python3"
  },
  "language_info": {
   "codemirror_mode": {
    "name": "ipython",
    "version": 3
   },
   "file_extension": ".py",
   "mimetype": "text/x-python",
   "name": "python",
   "nbconvert_exporter": "python",
   "pygments_lexer": "ipython3",
   "version": "3.7.1"
  }
 },
 "nbformat": 4,
 "nbformat_minor": 2
}
