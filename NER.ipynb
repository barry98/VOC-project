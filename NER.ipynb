{
 "cells": [
  {
   "cell_type": "code",
   "execution_count": 24,
   "metadata": {},
   "outputs": [],
   "source": [
    "import pandas as pd\n",
    "import os\n",
    "import re\n",
    "from tqdm import notebook\n",
    "import spacy\n",
    "import ast"
   ]
  },
  {
   "cell_type": "code",
   "execution_count": 12,
   "metadata": {},
   "outputs": [],
   "source": [
    "#!python -m spacy download nl_core_news_sm\n",
    "nlp = spacy.load('nl_core_news_sm')"
   ]
  },
  {
   "cell_type": "code",
   "execution_count": 44,
   "metadata": {},
   "outputs": [
    {
     "name": "stderr",
     "output_type": "stream",
     "text": [
      "D:\\Anaconda\\lib\\site-packages\\tqdm\\std.py:651: FutureWarning: The Panel class is removed from pandas. Accessing it from the top-level namespace will also be removed in the next version\n",
      "  from pandas import Panel\n"
     ]
    }
   ],
   "source": [
    "notebook.tqdm.pandas()"
   ]
  },
  {
   "cell_type": "code",
   "execution_count": 4,
   "metadata": {},
   "outputs": [],
   "source": [
    "df = pd.read_csv('../clean_data.csv')"
   ]
  },
  {
   "cell_type": "code",
   "execution_count": 33,
   "metadata": {},
   "outputs": [
    {
     "data": {
      "text/plain": [
       "['Trijntje Lansink',\n",
       " 'Martinus Ciprianus',\n",
       " 'Simon van Zuijderwijk',\n",
       " 'Margareta van Zuijdewijk']"
      ]
     },
     "execution_count": 33,
     "metadata": {},
     "output_type": "execute_result"
    }
   ],
   "source": [
    "test"
   ]
  },
  {
   "cell_type": "code",
   "execution_count": 37,
   "metadata": {},
   "outputs": [
    {
     "name": "stdout",
     "output_type": "stream",
     "text": [
      "Martinus Ciprianus PER\n",
      "Margareta van Zuijderwijk Egtelieden PER\n",
      "Maert 1741tn den Name Godes PER\n",
      "Mantinus Cijpriauus PER\n",
      "Testamenten Codicille PER\n",
      "Actien Coediten PER\n",
      "Moeder Trijntje PER\n",
      "Simon van Zuijderwijk PER\n",
      "Kind off Kinderen PER\n",
      "Soo ter Laaster PER\n",
      "Sterffhuijs Soude PER\n",
      "Alle ' PER\n",
      "E. Hendrik PER\n",
      "Schilip van Soest PER\n",
      "Mansenun Cijmanunj Margreta PER\n",
      "Hendenk Boouwes Jclip PER\n"
     ]
    }
   ],
   "source": [
    "doc = nlp(df.text[0])\n",
    "\n",
    "for ent in doc.ents:\n",
    "    if ent.label_ == 'PER' and ' ' in ent.text:\n",
    "        print(ent.text, ent.label_)"
   ]
  },
  {
   "cell_type": "code",
   "execution_count": 28,
   "metadata": {},
   "outputs": [],
   "source": [
    "test = []\n",
    "\n",
    "for x in ast.literal_eval(df.namen[0]):\n",
    "    if x['tussenvoegsel'] != None:\n",
    "        test.append(x['voornaam'] + \" \" + x['tussenvoegsel'] + \" \" + x['achternaam'])\n",
    "    else:\n",
    "        test.append(x['voornaam'] + \" \" + x['achternaam'])"
   ]
  },
  {
   "cell_type": "code",
   "execution_count": 34,
   "metadata": {},
   "outputs": [
    {
     "name": "stdout",
     "output_type": "stream",
     "text": [
      "Martinus Ciprianus 110 128 PER\n",
      "Simon van Zuijderwijk 2011 2032 PER\n"
     ]
    }
   ],
   "source": [
    "for ent in doc.ents:\n",
    "    if ent.text in test:\n",
    "        print(ent.text, ent.start_char, ent.end_char, ent.label_)\n"
   ]
  },
  {
   "cell_type": "code",
   "execution_count": 68,
   "metadata": {},
   "outputs": [],
   "source": [
    "def compare(ner, true):\n",
    "    c = 0\n",
    "    for x in ner:\n",
    "        if x in true:\n",
    "            c += 1\n",
    "    return c / len(true)\n",
    "    "
   ]
  },
  {
   "cell_type": "code",
   "execution_count": 69,
   "metadata": {},
   "outputs": [],
   "source": [
    "def spacy_test(text):\n",
    "    doc = nlp(text)\n",
    "    holder = []\n",
    "    for ent in doc.ents:\n",
    "        if ent.label_ == 'PER' and ' ' in ent.text:\n",
    "            holder.append(ent.text)\n",
    "    return holder\n",
    "    "
   ]
  },
  {
   "cell_type": "code",
   "execution_count": 70,
   "metadata": {},
   "outputs": [],
   "source": [
    "def true_name_getter(true):\n",
    "    holder = []\n",
    "    for x in ast.literal_eval(true):\n",
    "        if x['tussenvoegsel'] != None:\n",
    "            holder.append(x['voornaam'] + \" \" + x['tussenvoegsel'] + \" \" + x['achternaam'])\n",
    "        elif x['voornaam'] and x['achternaam'] != None:\n",
    "            holder.append(x['voornaam'] + \" \" + x['achternaam'])\n",
    "    return holder"
   ]
  },
  {
   "cell_type": "code",
   "execution_count": 71,
   "metadata": {},
   "outputs": [],
   "source": [
    "def NER_test(row):\n",
    "    ner = spacy_test(row.text)\n",
    "    true = true_name_getter(row.namen)\n",
    "    return compare(ner, true)"
   ]
  },
  {
   "cell_type": "code",
   "execution_count": 74,
   "metadata": {},
   "outputs": [
    {
     "data": {
      "application/vnd.jupyter.widget-view+json": {
       "model_id": "4d869049d2e64ac397dd3b399210afe7",
       "version_major": 2,
       "version_minor": 0
      },
      "text/plain": [
       "HBox(children=(IntProgress(value=0, max=13063), HTML(value='')))"
      ]
     },
     "metadata": {},
     "output_type": "display_data"
    },
    {
     "name": "stdout",
     "output_type": "stream",
     "text": [
      "\n"
     ]
    }
   ],
   "source": [
    "ner_result = df.progress_apply(NER_test, axis=1)"
   ]
  },
  {
   "cell_type": "code",
   "execution_count": 75,
   "metadata": {},
   "outputs": [
    {
     "data": {
      "text/plain": [
       "0.3359746833682815"
      ]
     },
     "execution_count": 75,
     "metadata": {},
     "output_type": "execute_result"
    }
   ],
   "source": [
    "ner_result.mean()"
   ]
  },
  {
   "cell_type": "code",
   "execution_count": null,
   "metadata": {},
   "outputs": [],
   "source": []
  }
 ],
 "metadata": {
  "kernelspec": {
   "display_name": "Python 3",
   "language": "python",
   "name": "python3"
  },
  "language_info": {
   "codemirror_mode": {
    "name": "ipython",
    "version": 3
   },
   "file_extension": ".py",
   "mimetype": "text/x-python",
   "name": "python",
   "nbconvert_exporter": "python",
   "pygments_lexer": "ipython3",
   "version": "3.7.1"
  }
 },
 "nbformat": 4,
 "nbformat_minor": 2
}
