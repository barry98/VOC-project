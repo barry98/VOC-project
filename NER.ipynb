{
 "cells": [
  {
   "cell_type": "code",
   "execution_count": 4,
   "metadata": {},
   "outputs": [],
   "source": [
    "import pandas as pd\n",
    "import os\n",
    "import re\n",
    "from tqdm import notebook\n",
    "import spacy\n",
    "import ast\n",
    "import numpy as np\n"
   ]
  },
  {
   "cell_type": "markdown",
   "metadata": {},
   "source": [
    "## Loading in Dataset"
   ]
  },
  {
   "cell_type": "code",
   "execution_count": 5,
   "metadata": {},
   "outputs": [
    {
     "name": "stderr",
     "output_type": "stream",
     "text": [
      "D:\\Anaconda\\lib\\site-packages\\tqdm\\std.py:651: FutureWarning: The Panel class is removed from pandas. Accessing it from the top-level namespace will also be removed in the next version\n",
      "  from pandas import Panel\n"
     ]
    }
   ],
   "source": [
    "df = pd.read_csv('../clean_data.csv')\n",
    "notebook.tqdm.pandas()"
   ]
  },
  {
   "cell_type": "markdown",
   "metadata": {},
   "source": [
    "## Spacy"
   ]
  },
  {
   "cell_type": "code",
   "execution_count": 15,
   "metadata": {},
   "outputs": [],
   "source": [
    "#!python -m spacy download nl_core_news_sm\n",
    "nlp = spacy.load('nl_core_news_sm')"
   ]
  },
  {
   "cell_type": "code",
   "execution_count": 30,
   "metadata": {},
   "outputs": [],
   "source": [
    "def levenshtein_ratio_and_distance(s, t, ratio_calc = False):\n",
    "    \"\"\" levenshtein_ratio_and_distance:\n",
    "        Calculates levenshtein distance between two strings.\n",
    "        If ratio_calc = True, the function computes the\n",
    "        levenshtein distance ratio of similarity between two strings\n",
    "        For all i and j, distance[i,j] will contain the Levenshtein\n",
    "        distance between the first i characters of s and the\n",
    "        first j characters of t\n",
    "    \"\"\"\n",
    "    # Initialize matrix of zeros\n",
    "    rows = len(s)+1\n",
    "    cols = len(t)+1\n",
    "    distance = np.zeros((rows,cols),dtype = int)\n",
    "\n",
    "    # Populate matrix of zeros with the indeces of each character of both strings\n",
    "    for i in range(1, rows):\n",
    "        for k in range(1,cols):\n",
    "            distance[i][0] = i\n",
    "            distance[0][k] = k\n",
    "\n",
    "    # Iterate over the matrix to compute the cost of deletions,insertions and/or substitutions    \n",
    "    for col in range(1, cols):\n",
    "        for row in range(1, rows):\n",
    "            if s[row-1] == t[col-1]:\n",
    "                cost = 0 # If the characters are the same in the two strings in a given position [i,j] then the cost is 0\n",
    "            else:\n",
    "                # In order to align the results with those of the Python Levenshtein package, if we choose to calculate the ratio\n",
    "                # the cost of a substitution is 2. If we calculate just distance, then the cost of a substitution is 1.\n",
    "                if ratio_calc == True:\n",
    "                    cost = 2\n",
    "                else:\n",
    "                    cost = 1\n",
    "            distance[row][col] = min(distance[row-1][col] + 1,      # Cost of deletions\n",
    "                                 distance[row][col-1] + 1,          # Cost of insertions\n",
    "                                 distance[row-1][col-1] + cost)     # Cost of substitutions\n",
    "    if ratio_calc == True:\n",
    "        # Computation of the Levenshtein Distance Ratio\n",
    "        Ratio = ((len(s)+len(t)) - distance[row][col]) / (len(s)+len(t))\n",
    "        return Ratio\n",
    "    else:\n",
    "        # print(distance) # Uncomment if you want to see the matrix showing how the algorithm computes the cost of deletions,\n",
    "        # insertions and/or substitutions\n",
    "        # This is the minimum number of edits needed to convert string a to string b\n",
    "        return distance[row][col]"
   ]
  },
  {
   "cell_type": "code",
   "execution_count": 50,
   "metadata": {},
   "outputs": [],
   "source": [
    "def compare(ner, true, distance):\n",
    "    tp = 0\n",
    "    fp = 0\n",
    "    fn = 0\n",
    "    check = []\n",
    "    corrector = []\n",
    "    for x in ner:\n",
    "        # Check Removed Last Names\n",
    "        if type(x) == tuple:\n",
    "            if x[0] in true:\n",
    "                tp += 1\n",
    "                corrector.append(x[0])\n",
    "            elif x[1] in true:\n",
    "                tp += 1\n",
    "                corrector.append(x[1])\n",
    "            else:\n",
    "                switch = True\n",
    "                for y in true:\n",
    "                    if levenshtein_ratio_and_distance(x[0].lower(),y.lower()) <= distance:\n",
    "                        tp += 1\n",
    "                        switch = False\n",
    "                        check.append((x[0],y))\n",
    "                        corrector.append(y)\n",
    "                    elif levenshtein_ratio_and_distance(x[1].lower(),y.lower()) <= distance:\n",
    "                        tp += 1\n",
    "                        switch = False\n",
    "                        check.append((x[1],y))\n",
    "                        corrector.append(y)\n",
    "                if switch == True:\n",
    "                    fp += 1\n",
    "        \n",
    "        # Check Normal Names\n",
    "        elif x in true:\n",
    "            tp += 1\n",
    "            corrector.append(x)\n",
    "        else:\n",
    "            switch = True\n",
    "            for y in true:\n",
    "                if levenshtein_ratio_and_distance(x.lower(),y.lower()) <= distance:\n",
    "                    tp += 1\n",
    "                    switch = False\n",
    "                    corrector.append(y)\n",
    "                    check.append((x,y))\n",
    "            if switch == True:\n",
    "                fp += 1\n",
    "            \n",
    "    for x in true:\n",
    "        if x not in corrector:\n",
    "            fn += 1\n",
    "    return tp, fp, fn, check\n",
    "    "
   ]
  },
  {
   "cell_type": "code",
   "execution_count": 51,
   "metadata": {},
   "outputs": [],
   "source": [
    "def spacy_test(text):\n",
    "    doc = nlp(text)\n",
    "    holder = []\n",
    "    for ent in doc.ents:\n",
    "        if ent.label_ == 'PER' and ' ' in ent.text:\n",
    "            if re.search(\"[A-Z][a-z ]+[A-Z]\\w+ [A-Z]\\w+\", ent.text) != None:\n",
    "                holder.append((ent.text, re.sub(' [A-Z]\\w+$', '', ent.text)))\n",
    "            else:\n",
    "                holder.append(ent.text)\n",
    "    return holder\n",
    "    "
   ]
  },
  {
   "cell_type": "code",
   "execution_count": 52,
   "metadata": {},
   "outputs": [],
   "source": [
    "def true_name_getter(true):\n",
    "    holder = []\n",
    "    for x in ast.literal_eval(true):\n",
    "        if x['tussenvoegsel'] != None:\n",
    "            holder.append(x['voornaam'] + \" \" + x['tussenvoegsel'] + \" \" + x['achternaam'])\n",
    "        elif x['voornaam'] and x['achternaam'] != None:\n",
    "            holder.append(x['voornaam'] + \" \" + x['achternaam'])\n",
    "    return holder"
   ]
  },
  {
   "cell_type": "code",
   "execution_count": 63,
   "metadata": {},
   "outputs": [],
   "source": [
    "def NER_test(row):\n",
    "    ner = spacy_test(row.text)\n",
    "    true = true_name_getter(row.namen)\n",
    "    tp, fp, fn, check = compare(ner, true, 3)\n",
    "    #return {'tp' : tp, 'fp': fp, 'fn': fn}\n",
    "    return {'tp' : tp, 'fp': fp, 'fn': fn, 'check': check}"
   ]
  },
  {
   "cell_type": "code",
   "execution_count": 64,
   "metadata": {},
   "outputs": [
    {
     "data": {
      "application/vnd.jupyter.widget-view+json": {
       "model_id": "5bffe6e36071480697086895cf2009dd",
       "version_major": 2,
       "version_minor": 0
      },
      "text/plain": [
       "HBox(children=(IntProgress(value=0, max=13063), HTML(value='')))"
      ]
     },
     "metadata": {},
     "output_type": "display_data"
    },
    {
     "name": "stdout",
     "output_type": "stream",
     "text": [
      "\n"
     ]
    }
   ],
   "source": [
    "ner_result = df.progress_apply(NER_test, axis=1)"
   ]
  },
  {
   "cell_type": "code",
   "execution_count": 60,
   "metadata": {},
   "outputs": [],
   "source": [
    "total_fp = sum([x['fp'] for x in ner_result])\n",
    "total_tp = sum([x['tp'] for x in ner_result])\n",
    "total_fn = sum([x['fn'] for x in ner_result])"
   ]
  },
  {
   "cell_type": "code",
   "execution_count": 61,
   "metadata": {},
   "outputs": [
    {
     "data": {
      "text/plain": [
       "(167997, 47121, 30955, 0.2190472205952082, 0.6035273323428454)"
      ]
     },
     "execution_count": 61,
     "metadata": {},
     "output_type": "execute_result"
    }
   ],
   "source": [
    "total_fp,total_tp,total_fn, total_tp / (total_tp + total_fp), total_tp / (total_tp + total_fn)"
   ]
  },
  {
   "cell_type": "markdown",
   "metadata": {},
   "source": [
    "### Spacy Tests\n",
    "\n",
    "#### Base SpaCy\n",
    "TP: 23862  \n",
    "FP: 190907  \n",
    "FN: 45972  \n",
    "Recall: 0.34169602199501675  \n",
    "Precision: 0.11110542024221373  \n",
    "\n",
    "#### SpaCy met achternaam removal\n",
    "TP: 26937  \n",
    "FP: 187832  \n",
    "FN: 45074  \n",
    "Recall: 0.3740678507450251  \n",
    "Precision: 0.12542312903631345  \n",
    "\n",
    "#### SpaCy met Levenshtein distance 2 en achternaam removal\n",
    "TP: 41931  \n",
    "FP: 173001  \n",
    "FN: 34235  \n",
    "Recall: 0.5505212299451199  \n",
    "Precision: 0.1950896097370331  \n",
    "\n",
    "#### SpaCy met Levenshtein distance 3 en achternaam removal\n",
    "TP: 47121  \n",
    "FP: 167997  \n",
    "FN: 30955  \n",
    "Recall: 0.6035273323428454  \n",
    "Precision: 0.2190472205952082  "
   ]
  },
  {
   "cell_type": "code",
   "execution_count": 29,
   "metadata": {},
   "outputs": [
    {
     "data": {
      "text/plain": [
       "{'tp': 3, 'fp': 13, 'fn': 1}"
      ]
     },
     "execution_count": 29,
     "metadata": {},
     "output_type": "execute_result"
    }
   ],
   "source": [
    "NER_test(df.iloc[0])"
   ]
  },
  {
   "cell_type": "code",
   "execution_count": 67,
   "metadata": {},
   "outputs": [
    {
     "data": {
      "text/plain": [
       "[('Cornelis van Omneren', 'Cornelis van Ommeren'),\n",
       " ('Anna Johanna Roman', 'Anna Johanna Romano'),\n",
       " ('Maurina Roman', 'Maurina Romano')]"
      ]
     },
     "execution_count": 67,
     "metadata": {},
     "output_type": "execute_result"
    }
   ],
   "source": [
    "ner_result[1]['check']"
   ]
  },
  {
   "cell_type": "code",
   "execution_count": null,
   "metadata": {},
   "outputs": [],
   "source": []
  }
 ],
 "metadata": {
  "kernelspec": {
   "display_name": "Python 3",
   "language": "python",
   "name": "python3"
  },
  "language_info": {
   "codemirror_mode": {
    "name": "ipython",
    "version": 3
   },
   "file_extension": ".py",
   "mimetype": "text/x-python",
   "name": "python",
   "nbconvert_exporter": "python",
   "pygments_lexer": "ipython3",
   "version": "3.7.1"
  }
 },
 "nbformat": 4,
 "nbformat_minor": 2
}
